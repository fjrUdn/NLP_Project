{
  "nbformat": 4,
  "nbformat_minor": 0,
  "metadata": {
    "colab": {
      "provenance": []
    },
    "kernelspec": {
      "name": "python3",
      "display_name": "Python 3"
    },
    "language_info": {
      "name": "python"
    }
  },
  "cells": [
    {
      "cell_type": "code",
      "source": [
        "import pandas as pd\n",
        "df=pd.read_csv('datasetfull_.csv', engine='python', encoding='Windows-1252', sep=';')\n",
        "#df=df['lirik;emosi'].str.split(';', expand=True)\n",
        "df"
      ],
      "metadata": {
        "colab": {
          "base_uri": "https://localhost:8080/",
          "height": 423
        },
        "id": "cCAtAEQ8EmHE",
        "outputId": "c304f320-2d36-4f98-e22f-2f7b1a5f8acb"
      },
      "execution_count": null,
      "outputs": [
        {
          "output_type": "execute_result",
          "data": {
            "text/plain": [
              "                                                lirik        emosi  \\\n",
              "0   Dirimu peran utama di khayalku Mengganggu lamu...        sedih   \n",
              "1   Kita memang hanya bisa merencanakan Selebihnya...        sedih   \n",
              "2   Distopia mewarnai mimpi buruk kita Distopia ak...  bersemangat   \n",
              "3   Memandang semua dengan sudut yang sama Tatapan...        marah   \n",
              "4   Berburu dan meramu untuk jadi makmur Tanpa rag...  bersemangat   \n",
              "..                                                ...          ...   \n",
              "84  Di gunung tinggi 'ku temui Gadis manis putri p...  bersemangat   \n",
              "85  Bukan lautan hanya kolam susu Kail dan jalan c...       santai   \n",
              "86  Menebas terali terkurung api Terlahir telanjan...        marah   \n",
              "87  Kadang ku kesal dengan sikapmu Yang s'lalu ber...       santai   \n",
              "88  Ketika siapa saja sendirian Berdiam diri tak a...  bersemangat   \n",
              "\n",
              "                        judul          penyanyi  \n",
              "0                     percaya     Golden Melody  \n",
              "1                    Sempurna         Sitokotis  \n",
              "2              Budaya Jentera            Mostis  \n",
              "3            Sisi Gelap Paham            Mostis  \n",
              "4   Penyembah berhala abad 21            Mostis  \n",
              "..                        ...               ...  \n",
              "84                      Diana         Koes Plus  \n",
              "85                 Kolam Susu         Koes Plus  \n",
              "86               Belati Tuhan  Superman Is Dead  \n",
              "87                       Cuek     Rizky Febrian  \n",
              "88                    Beraksi             Kotak  \n",
              "\n",
              "[89 rows x 4 columns]"
            ],
            "text/html": [
              "\n",
              "  <div id=\"df-10d42a56-7f85-400d-91d7-cdfedaa9e6c8\">\n",
              "    <div class=\"colab-df-container\">\n",
              "      <div>\n",
              "<style scoped>\n",
              "    .dataframe tbody tr th:only-of-type {\n",
              "        vertical-align: middle;\n",
              "    }\n",
              "\n",
              "    .dataframe tbody tr th {\n",
              "        vertical-align: top;\n",
              "    }\n",
              "\n",
              "    .dataframe thead th {\n",
              "        text-align: right;\n",
              "    }\n",
              "</style>\n",
              "<table border=\"1\" class=\"dataframe\">\n",
              "  <thead>\n",
              "    <tr style=\"text-align: right;\">\n",
              "      <th></th>\n",
              "      <th>lirik</th>\n",
              "      <th>emosi</th>\n",
              "      <th>judul</th>\n",
              "      <th>penyanyi</th>\n",
              "    </tr>\n",
              "  </thead>\n",
              "  <tbody>\n",
              "    <tr>\n",
              "      <th>0</th>\n",
              "      <td>Dirimu peran utama di khayalku Mengganggu lamu...</td>\n",
              "      <td>sedih</td>\n",
              "      <td>percaya</td>\n",
              "      <td>Golden Melody</td>\n",
              "    </tr>\n",
              "    <tr>\n",
              "      <th>1</th>\n",
              "      <td>Kita memang hanya bisa merencanakan Selebihnya...</td>\n",
              "      <td>sedih</td>\n",
              "      <td>Sempurna</td>\n",
              "      <td>Sitokotis</td>\n",
              "    </tr>\n",
              "    <tr>\n",
              "      <th>2</th>\n",
              "      <td>Distopia mewarnai mimpi buruk kita Distopia ak...</td>\n",
              "      <td>bersemangat</td>\n",
              "      <td>Budaya Jentera</td>\n",
              "      <td>Mostis</td>\n",
              "    </tr>\n",
              "    <tr>\n",
              "      <th>3</th>\n",
              "      <td>Memandang semua dengan sudut yang sama Tatapan...</td>\n",
              "      <td>marah</td>\n",
              "      <td>Sisi Gelap Paham</td>\n",
              "      <td>Mostis</td>\n",
              "    </tr>\n",
              "    <tr>\n",
              "      <th>4</th>\n",
              "      <td>Berburu dan meramu untuk jadi makmur Tanpa rag...</td>\n",
              "      <td>bersemangat</td>\n",
              "      <td>Penyembah berhala abad 21</td>\n",
              "      <td>Mostis</td>\n",
              "    </tr>\n",
              "    <tr>\n",
              "      <th>...</th>\n",
              "      <td>...</td>\n",
              "      <td>...</td>\n",
              "      <td>...</td>\n",
              "      <td>...</td>\n",
              "    </tr>\n",
              "    <tr>\n",
              "      <th>84</th>\n",
              "      <td>Di gunung tinggi 'ku temui Gadis manis putri p...</td>\n",
              "      <td>bersemangat</td>\n",
              "      <td>Diana</td>\n",
              "      <td>Koes Plus</td>\n",
              "    </tr>\n",
              "    <tr>\n",
              "      <th>85</th>\n",
              "      <td>Bukan lautan hanya kolam susu Kail dan jalan c...</td>\n",
              "      <td>santai</td>\n",
              "      <td>Kolam Susu</td>\n",
              "      <td>Koes Plus</td>\n",
              "    </tr>\n",
              "    <tr>\n",
              "      <th>86</th>\n",
              "      <td>Menebas terali terkurung api Terlahir telanjan...</td>\n",
              "      <td>marah</td>\n",
              "      <td>Belati Tuhan</td>\n",
              "      <td>Superman Is Dead</td>\n",
              "    </tr>\n",
              "    <tr>\n",
              "      <th>87</th>\n",
              "      <td>Kadang ku kesal dengan sikapmu Yang s'lalu ber...</td>\n",
              "      <td>santai</td>\n",
              "      <td>Cuek</td>\n",
              "      <td>Rizky Febrian</td>\n",
              "    </tr>\n",
              "    <tr>\n",
              "      <th>88</th>\n",
              "      <td>Ketika siapa saja sendirian Berdiam diri tak a...</td>\n",
              "      <td>bersemangat</td>\n",
              "      <td>Beraksi</td>\n",
              "      <td>Kotak</td>\n",
              "    </tr>\n",
              "  </tbody>\n",
              "</table>\n",
              "<p>89 rows × 4 columns</p>\n",
              "</div>\n",
              "      <button class=\"colab-df-convert\" onclick=\"convertToInteractive('df-10d42a56-7f85-400d-91d7-cdfedaa9e6c8')\"\n",
              "              title=\"Convert this dataframe to an interactive table.\"\n",
              "              style=\"display:none;\">\n",
              "        \n",
              "  <svg xmlns=\"http://www.w3.org/2000/svg\" height=\"24px\"viewBox=\"0 0 24 24\"\n",
              "       width=\"24px\">\n",
              "    <path d=\"M0 0h24v24H0V0z\" fill=\"none\"/>\n",
              "    <path d=\"M18.56 5.44l.94 2.06.94-2.06 2.06-.94-2.06-.94-.94-2.06-.94 2.06-2.06.94zm-11 1L8.5 8.5l.94-2.06 2.06-.94-2.06-.94L8.5 2.5l-.94 2.06-2.06.94zm10 10l.94 2.06.94-2.06 2.06-.94-2.06-.94-.94-2.06-.94 2.06-2.06.94z\"/><path d=\"M17.41 7.96l-1.37-1.37c-.4-.4-.92-.59-1.43-.59-.52 0-1.04.2-1.43.59L10.3 9.45l-7.72 7.72c-.78.78-.78 2.05 0 2.83L4 21.41c.39.39.9.59 1.41.59.51 0 1.02-.2 1.41-.59l7.78-7.78 2.81-2.81c.8-.78.8-2.07 0-2.86zM5.41 20L4 18.59l7.72-7.72 1.47 1.35L5.41 20z\"/>\n",
              "  </svg>\n",
              "      </button>\n",
              "      \n",
              "  <style>\n",
              "    .colab-df-container {\n",
              "      display:flex;\n",
              "      flex-wrap:wrap;\n",
              "      gap: 12px;\n",
              "    }\n",
              "\n",
              "    .colab-df-convert {\n",
              "      background-color: #E8F0FE;\n",
              "      border: none;\n",
              "      border-radius: 50%;\n",
              "      cursor: pointer;\n",
              "      display: none;\n",
              "      fill: #1967D2;\n",
              "      height: 32px;\n",
              "      padding: 0 0 0 0;\n",
              "      width: 32px;\n",
              "    }\n",
              "\n",
              "    .colab-df-convert:hover {\n",
              "      background-color: #E2EBFA;\n",
              "      box-shadow: 0px 1px 2px rgba(60, 64, 67, 0.3), 0px 1px 3px 1px rgba(60, 64, 67, 0.15);\n",
              "      fill: #174EA6;\n",
              "    }\n",
              "\n",
              "    [theme=dark] .colab-df-convert {\n",
              "      background-color: #3B4455;\n",
              "      fill: #D2E3FC;\n",
              "    }\n",
              "\n",
              "    [theme=dark] .colab-df-convert:hover {\n",
              "      background-color: #434B5C;\n",
              "      box-shadow: 0px 1px 3px 1px rgba(0, 0, 0, 0.15);\n",
              "      filter: drop-shadow(0px 1px 2px rgba(0, 0, 0, 0.3));\n",
              "      fill: #FFFFFF;\n",
              "    }\n",
              "  </style>\n",
              "\n",
              "      <script>\n",
              "        const buttonEl =\n",
              "          document.querySelector('#df-10d42a56-7f85-400d-91d7-cdfedaa9e6c8 button.colab-df-convert');\n",
              "        buttonEl.style.display =\n",
              "          google.colab.kernel.accessAllowed ? 'block' : 'none';\n",
              "\n",
              "        async function convertToInteractive(key) {\n",
              "          const element = document.querySelector('#df-10d42a56-7f85-400d-91d7-cdfedaa9e6c8');\n",
              "          const dataTable =\n",
              "            await google.colab.kernel.invokeFunction('convertToInteractive',\n",
              "                                                     [key], {});\n",
              "          if (!dataTable) return;\n",
              "\n",
              "          const docLinkHtml = 'Like what you see? Visit the ' +\n",
              "            '<a target=\"_blank\" href=https://colab.research.google.com/notebooks/data_table.ipynb>data table notebook</a>'\n",
              "            + ' to learn more about interactive tables.';\n",
              "          element.innerHTML = '';\n",
              "          dataTable['output_type'] = 'display_data';\n",
              "          await google.colab.output.renderOutput(dataTable, element);\n",
              "          const docLink = document.createElement('div');\n",
              "          docLink.innerHTML = docLinkHtml;\n",
              "          element.appendChild(docLink);\n",
              "        }\n",
              "      </script>\n",
              "    </div>\n",
              "  </div>\n",
              "  "
            ]
          },
          "metadata": {},
          "execution_count": 1
        }
      ]
    },
    {
      "cell_type": "code",
      "source": [
        "lyrics=df.values[:,0]\n",
        "emotions=df.values[:,1]"
      ],
      "metadata": {
        "id": "tonBAOaRLLsS"
      },
      "execution_count": null,
      "outputs": []
    },
    {
      "cell_type": "code",
      "source": [
        "lyrics"
      ],
      "metadata": {
        "id": "5Ni6aW2JJRxL",
        "colab": {
          "base_uri": "https://localhost:8080/"
        },
        "outputId": "548e95fe-c626-4139-997f-13ee12ba7701"
      },
      "execution_count": null,
      "outputs": [
        {
          "output_type": "execute_result",
          "data": {
            "text/plain": [
              "array(['Dirimu peran utama di khayalku Mengganggu lamunanku Dirimu tiada henti mmembayangiku Di saat ku rapuh, terjatuh Tentangmu dan waktu yang tak bisa Sampaikan rinduku dalam penatku Karena perlahan ku percaya Semua indah pada waktunya Dan ku percaya Bukan ku tak ingin memiliki Walau kau tak pernah tahu kau lah yang selalu di hati Hanya ketakutan semakin dalam ku rasakan Biar lelah ini yang mengerti betapa dirimu selalu ku nanti Tiada kau sadari kau sangat berarti Hempasan rindu ini semakin ku nikmati Mimpi ini alasan bagiku untuk tetap bertahan Inikah cinta yang sesungguhnya Bukan ku tak ingin memiliki Walau kau tak pernah tau kau lah yang selalui di hati Hanya ketakutan semakin dalam ku rasakan Biar lelah ini yang mengerti betapa dirimu Biar lelah ini yang mengerti betapa dirimu Selalu ku nanti Selalu ku nanti Selalu ku nanti Selalu ku nanti',\n",
              "       \"Kita memang hanya bisa merencanakan Selebihnya kita hanya bisa berharap Misteri sebuah waktu yang tak pernah bisa Kita tahu ujungnya Tapi itu sempurna Membuat kita berusaha Yang terbaik yang kita bisa Seandainya tahu apa yang akan terjadi 'Ku pastikan kau takan bahagia Rahasia alam semesta memang sepantasnya Ada untuk manusia Dan itulah sempurna Membuat kita berusaha Yang terbaik yang kita bisa Dan itulah sempurna Membuat kita berusaha Yang terbaik yang kita bisa Berdoalah kepadaNya Berusaha sebisa kita Dan kelak niscaya ada hasilnya Syukuri pahami itulah yang Yang terindah Yang terbaik Berdoalah kepadaNya Berusaha sebisa kita Dan kelak niscaya ada hasilnya Syukuri pahami itulah yang Yang terindah Yang terbaik\",\n",
              "       'Distopia mewarnai mimpi buruk kita Distopia akankah berubah jadi nyata Manusia kian terbiasa Dengan jentera ke mana saja Manusia kian terbiasa Dengan mesin juga jalan raya Utopia akankah menghilang tanpa atah Utopia akankah hilang karna budaya Manusia telah terbiasa Dengan emisi gas rumah kaca Manusia telah terbiasa Dengan udara dan polusinya Ini tentang manusia yang bergantung pada laju roda Kemanapun perginya takan sempurna tanpa berkendara Ini tentang budaya yang bergantung pada sang jentera Melupakan petaka yang kan melanda jika tak berubah',\n",
              "       'Memandang semua dengan sudut yang sama Tatapanya hanya bermakna benar salah Manilai semua dengan angka yang sama Angka terendah atau angka tertinggi Tak mau tau jika tak sejalan Kan diinjak hingga titik penghabisan Tak peduli apa kata sejarah Terus menjarah hingga berdarah  Tak sadar tlah terjebak Aaaa Dalam sisi gelap paham yang membuat Ruam pada ruang hidup ini Mendebat tak menyerah Aaaa Dalam sisi gelap paham yang membuat Reputasi perdamaian menjadi basi Berobat pada paham paska Setelah semua dirasa berbeda Smakin terasa resah Semakin sesak merampas otak Berkaca pada paham paska Selepas beranjak setelah tersendak Semakin terasa gerah Semakin lebam luka paham yang terus digaram Menyamakan kehidupan dengan baris tulisan Berhenti pahami seiring dengan tanda baca Titik berhenti, seru membentak, tanya mendebat Melupakan alinea di rak buku berbeda',\n",
              "       \"Berburu dan meramu untuk jadi makmur Tanpa ragu, t'rus menggancu lahan baru Atas nama kepentingan bersama Nyatanya timpang, tak ada adil di sana  Belum saatnya berhenti untuk mengatakan Pada stakeholder tentang semua disorder Belantara bukan tempat untuk gali harta Agraria pertanian bukan permainan Ah-ah-ha-ah Ah-ah-ha-ah (Hu-uh, hu-uh, hu-uh-uh) (Hu-uh, hu-uh, hu-uh-uh) (Hu-uh, hu-uh, hu-uh-uh) (Hu-uh, hu-uh, hu-uh-uh) Berburu dan meramu untuk jadi makmur Tanpa ragu, t'rus menggancu lahan baru Atas nama kepentingan bersama Nyatanya timpang, tak ada adil di sana Belum saatnya berhenti untuk mengatakan Pada stakeholder tentang semua disorder Belantara bukan tempat untuk gali harta Agraria pertanian bukan permainan  Belum saatnya berhenti untuk mengatakan Pada stakeholder tentang semua disorder Belantara bukan tempat untuk gali harta Agraria pertanian bukan permainan (Hu-uh, hu-uh, hu-uh-uh) (Hu-uh, hu-uh, hu-uh)\",\n",
              "       'Kumulai hari dengan secangkir kopi Bersama hangatnya sinar mentari pagi Perlahan meninggi, menerangi dunia Dari ujung cakrawala Memulai langkah dengan percaya diri Yakin hal indah sudahlah menanti Membuka lembar baru hidupku Hapuskan perih luka dalam hatiku Seiring berjalan melewati semua halangan Melepaskan beban Dan kini langkah yang baru Akan kumulai dalam hidupku Berawal dari titik terendah Perlahan menggapai mimpi Takkan pernah menyerah Meski hujan badai mencoba menahan Tetap tegak berdiri Percaya pelangi datang saat badai berhenti Bukan hal mudah untuk menggapai mimpi Ujian silih berganti takkan berhenti Takkan menyerah sampai di sini Kuatkan langkahku, yakinkan hatiku Dan kini langkah yang baru Akan kumulai dalam hidupku Berawal dari titik terendah Perlahan menggapai mimpi Takkan pernah menyerah Meski hujan badai mencoba menahan Tetap tegak berdiri Percaya pelangi datang saat badai berhenti Hu-uh Dan kini langkah yang baru Akan kumulai dalam hidupku Berawal dari titik terendah lahan menggapai mimpi Takkan pernah menyerah Meski hujan badai mencoba menahan Tetap tegak berdiri Percaya pelangi datang saat badai berhenti Na-na-na-na-na (na-na) Na-na-na-na-na Tetap tegak berdiri Percaya pelangi datang saat badai berhenti, eh-yeah Percaya pelangi datang saat badai berhenti',\n",
              "       'Sinar mentari bangunkanku dari mimpi indah Yang ku alami malam tadi tentang indahnya dunia Burung-burung bernyanyi seiring ku melangkahkan kaki Membawa untuk menikmati hari yang indah Pam parararam aku bernyanyi Pam parararam aku bahagia Pam parararam aku bernyanyi Pam parararam aku bahagia  Sambut aku mentari hangatkan jiwa ini Menyatu dengan alam bebaskan semua beban Burung-burung bernyanyi seiring ku melangkahkan kaki Membawa untuk menikmati hari yang indah Pam parararam aku bernyanyi Pam parararam aku bahagia Pam parararam aku bernyanyi Pam parararam aku bahagia Sambut aku mentari hangatkan jiwa ini Menyatu dengan alam bebaskan semua beban Daun-daun menari seiring ku berlari Menikmati indahnya dunia Burung-burung bernyanyi seiring ku menari Bebas menikmati alam ini',\n",
              "       \"Jarak tak pernah mutlak bagi mereka yang bergerak Mengikuti laju arak-arakan dunia Yang katanya untuk menggapai sejahtera Tapi di ujung dunia mana saja tak kuasa Menghilangkan jarak, menciptakan sekat Jauhkan yang dekat Seiring dengan kepala menunduk, jari menari-nari Tak peduli apa yang ada di sebelahnya Serta mata yang terpaku pada gawai terbaru Teknologinya baru, fitur semakin maju Pengguna makin rancu Inikah dunia yang sunyi di tengah Ramainya manusia? Peringatan dini s'belum bencana melanda Jangan sampai lepaskan gawai dari genggaman Di mana pun itu dan kapan pun itu Kar'na kita terperangkap dunia tanpa batas Seiring kepala menunduk, jari menari-nari Tak peduli apa yang ada di sebelahnya Serta mata yang terpaku pada gawai terbaru Teknologinya baru, fitur semakin maju Seiring kepala menunduk, jari menari-nari Tak peduli apa yang ada di sebelahnya Serta mata yang terpaku pada gawai terbaru Teknologinya baru, fitur semakin maju Pengguna makin rancu Inikah dunia yang sunyi di tengah  ramainya manusia? Seiring kepala menunduk (inikah dunia), jari menari-nari Tak peduli apa yang ada di sebelahnya (yang sunyi di tengah ramainya) (Manusia?) Serta mata yang terpaku pada gawai terbaru Teknologinya baru, fitur semakin maju Pengguna makin rancu\",\n",
              "       'Satu per satu peluru menembusku Melewati lubang samping kepalaku Bersarang di balik tulang tengkoraku Berpijar meleburkan kewarasan Repertoar sempurna direncana Opera teater panggung sandiwara Lengkap dengan semua skenario Bintang iklan hingga musisi pun ada Satu pertunjukan dimainkan Setelah casting demokrasi ada Semua menentukan pilihanya Terjebak dalam oposisi binernya Ini yang bagus itu pasti yang buruk Ini yang bersih itu butuh dicuci Ini yang benar itu yang kurang aja Aku yang pintar pasti dia yang... Melupakan keragaman kedamaian Di semesta raya Yang tak pernah selalu sama Buka mata lihat semua yang ada',\n",
              "       'Mengikuti, perkataan orang yang terbiasa Menjadi lebah hitam dunia Dihisapnya, yang diperlunya dan menyebarkan Sari bunga yang sudah dijajah Melalui, pesta raksasa memilih manusia Menjadi lebah hitam dunia Dihapusnya, manusia dari hak menentukan Pada siapa ia percaya Hegemoni smakin menjadi Estuari hitam putih hilang, tersisa kini hanya gelap Mimpi buruk distopia, hilang semua utopia, Bergelayut dalam rana, salindia masa depan, kita',\n",
              "       'Di televisi atau halaman muka ponsel di tanganku Tentang proyeksi cuaca esok hari Terlihat bersahabat untuk ku pergi Berkendara dengan roda dua ku tanpa jas hujan Tiba saat ini waktuku untuk pergi Pelahan aku tinggalkan rumah ini Seperti rencana yang disepakati Olehku atas dasar teknologi Ternyata distorsi perhitungan manusia Terjadi pada proyeksi cuaca yang telah Aku yakin tanpa ragu dan abai pada kata Sedia payung sebelum kecewa melambung karena Hujan kadang datang waktu langit terang Badai kan terjadi tanpa kau tahu pasti Air kan membasahi tabuh tak terlindungi Juga kan tenggelamkan rencanamu ke depan Berkaca diri ini yang berhamba kepada Dunia yang dibalut moderenisasi, dan Berguru pada peristiwa yang di sekitar Diriku tentang manusia di abad 21 Dunia tak sebatas ekspetasi saja Smua bisa terjadi tanpa kau tahu pasti Sekalipun proyeksi nihil spekulasi Tetap saja kita tak kan bisa memastikan Besarkan ruang dalam dada Siapkan bilamana kita Kecewa dengan kemajuan Yang ternyata sebuah kemunduran Besarkan ruang dalam dada Siapkan bilamana kita Kecewa dengan kenyataan Yang tak seindah saat dibayangkan',\n",
              "       \"S'perti mentari yang datang di kehausan Mengeringkan setiap dahaga yang meronta Kemudian lara S'perti hujan yang menyiram tanah yang curam Menggerus setia butir tanah yang rawan Kemudian hancur Kuberitakan duka di tangis dunia Bahwa kematian, kebijaksanaan tiba Sebuah miskonsepsi memahami etika Terjadi perang postulat hanya untuk berdaulat Sebuah miskonsepsi memahami etika Terjadi perang postulat hanya untuk berdaulat (Na, aa-aa) (Na, aa-aa) (Na, aa-aa) Seka air mata dunia dan mulai membuka mata Seka air mata dunia dan mulai membuka mata Lepaskan emosi, lekas 'tuk berfikir Bijaksana mati, hidupkan kembali Lepaskan emosi, lekas 'tuk berfikir Bijaksana mati, hidupkan kembali Sadarlah, kita terjebak, terjerembab di Sebuah miskonsepsi memahami etika Terjadi perang postulat hanya untuk berdaulat Sebuah miskonsepsi memahami etika Terjadi perang postulat hanya untuk berdaulat Sebuah miskonsepsi memahami etika\",\n",
              "       'Bangun pagi sinar mentari hangat di hatiseiring Bob Marley nyanyikan lagu cintaAku belum mandi dan gosok gigi,aku sudah di airDengan segelas kopi kupandang lautan lepas Ngak kenal waktuNgak kenal hariyang ku tahu hanyalah sunset dan sunrice…ooo……Anak pantaiooo……Suka damaiooo……Anak pantaiooo……hidup santai Mulai petang dengan mata redupAku rebah di atas pasir Memandang gadis-gadis cantik kulitnya merah terbakarGairahku memuncak waktu kan tiba Kuambil gitar teriakkan isi hatiMengundang orang-orang di sekitarkuBerbagi rasa bersama Ngak kenal waktuParty selaluyang ku suka hanyalah sunset dan sunrice…ooo……Anak pantaiooo……Suka damaiooo……Anak pantaiooo……hidup santai ooo……Anak pantaiooo……Suka damaiooo……Anak pantaiooo……hidup santai ooo……Anak pantaiooo……Anak pantaiooo……Anak pantai',\n",
              "       'Mungkin kita halu Atau kita rindu Mungkin kita lelah dengan modern yang ada Lini masa kabar Semakin berkobar Terus menjalar terkadang tak masuk nalar Peristiwa rancu Terkadang ambigu Dan sedikit lucu mengocok isi perutku Mana yang benar Mana yang kesasar Mana yang netral semua terlihat samar Hati-hati di jalan hidup ini Penipuan akan smakin menjadi Atas nama agama atau kerajaan Dan mungkin masih banyakn lagi di sana Skalipun berdiri di institusi Yang jelas diterima kontitusi Tetap saja bisa tuk dikelabui Hati-hati di jalan hidup ini Harga kebenaran naik makin tajam Tawar menawar harga pas langsung tancap gas Kemanusiaan dan keadilan Toping yang bisa dipilih sesuai selera Hati-hati di jalan hidup ini Penipuan akan smakin menjadi Atas nama manusia atau keadilan Dan mungkin masih banyakn lagi di sana Skalipun berdiri di institusi Yang jelas diterima kontitusi Tetap saja bisa tuk dikelabui Hati-hati di jalan hidup ini',\n",
              "       'Di sela dunia yang semakin deras Terus hanyut kita biar saja Budaya tak punya patri mati Berganti seiring peradaban Seutas asa yang kan membawa Langkah tuk tiba di ujung sana Tapi sejuta putus asa menjelma Menjadi kabut hitam di jalan Menuju menjadi lebih dari saat ini Malah melukis elegi yang penuh rayuan Tuk Berbaring biarkan waktu berlalu Sampai ta sadar ia sudah jauh Koneksi data tak kenal jeda Membuat manusia terbawa Pada ruang maya tanpa batas Dan melupakan rencana untuk Terus tunda hingga tua Malas gerak membudaya Semakin nyaman merebahkan Tubuh sambil internetan',\n",
              "       \"Di saat kita bersama Di waktu kita tertawa Menangis merenung Oleh cinta Kau coba hapuskan rasa Rasa dimana kau melayang jauh Dari jiwaku Juga mimpiku Biarlah, biarlah Hariku dan harimu Terbelenggu satu Oleh ucapan manismu Dan kau bisikkan kata cinta Kau t'lah percikkan rasa sayang Pastikan kita seirama Walau terikat rasa hina Sekilas kau tampak layu Jika kau rindukan gelak tawa Yang warnai Lembar jalan kita Reguk dan teguklah Mimpiku dan mimpimu Terbelenggu satu Oleh ucapan janjimu Dan kau bisikkan kata cinta Kau t'lah percikkan rasa sayang Akankah kita seirama Saat terikat rasa hina\",\n",
              "       'Cinta yang sebenarnya indah sekali ehh Kadang menipu dan bikin sakit hati yeah eh Tapi lihatlah burung tetap bernyanyi yeah Terlalu indah untuk ditangisi yeah Nyanyi lagu pantai Nyanyi lagu santai yeah Nyanyi lagu pantai Mari kita santai yeah Cantik, mengejar sesuatu yang belum pasti Kadang kau gagal lalu frustasi Tapi hidup yang indah cuma sekali yeahh Terlalu singkat untuk ditangisi Nyanyi lagu pantai Nyanyi lagu santai yeah Nyanyi lagu pantai Mari kita santai yeah Nyanyi lagu pantai Nyanyi lagu santai yeah Nyanyi lagu pantai Mari kita santai yeah Yeah Nyanyi lagu pantai Nyanyi lagu santai yeah Nyanyi lagu pantai Mari kita santai yeah Nyanyi lagu pantai Nyanyi lagu santai yeah Nyanyi lagu pantai Mari kita santai yeah Huo yo huo yo huo o yoyoyo Huo yo huo oh santailah yeah Kalau kau frustasi karna kurang santai yeah Kaupun sakit hati karna kurang santai yeee Huo yo huo yo hou o yoyoyo. Huo yo huo oh santailah',\n",
              "       'Namaku Bento rumah real estate Mobilku banyak harta berlimpah Orang memanggilku bos eksekutif Tokoh papan atas, atas segalanya (Asyik!) Wajahku ganteng banyak simpanan Sekali lirik oke sajalah Bisnisku menjagal, jagal apa saja Yang penting aku senang, aku menang Persetan orang susah karena aku Yang penting asyik Sekali lagi (Asyik!) Khotbah soal moral omong keadilan Sarapan pagiku Aksi tipu-tipu, lobying, dan upeti Wow, jagonya Maling kelas teri, bandit kelas coro Itu kantong sampah Siapa yang mau berguru datang padaku Sebut tiga kali namaku Bento! Bento! Bento! (Asyik!) Namaku Bento rumah real estate Mobilku banyak harta berlimpah Orang memanggilku bos eksekutif Tokoh papan atas, atas segalanya (Asyik!) Wajahku ganteng banyak simpanan Sekali lirik oke sajalah Bisnisku menjagal, jagal apa saja Yang penting aku senang, aku menang Persetan orang susah karena aku Yang penting asyik Sekali lagi (Asyik!) Khotbah soal moral omong keadilan Sarapan pagiku Aksi tipu-tipu, lobying, dan upeti Wow, jagonya Maling kelas teri bandit kelas coro Itu kantong sampah Siapa yang mau berguru datang padaku Sebut namaku Bento! Bento! Bento! (Asyik!) Bento!',\n",
              "       'Kisah usang tikus-tikus kantor Yang suka berenang di sungai yang kotor Kisah usang tikus-tikus berdasi Yang suka ingkar janji lalu sembunyi Di balik meja teman sekerja Di dalam lemari dari baja Kucing datang cepat ganti muka Segera menjelma bagai tak tercela Masa bodoh hilang harga diri Asal tak terbukti ah tentu sikat lagi Tikus-tikus tak kenal kenyang Rakus, rakus, bukan kepalang Otak tikus memang bukan otak udang Kucing datang tikus menghilang Kucing-kucing yang kerjanya molor Tak ingat tikus kantor datang menteror Cerdik, licik, tikus bertingkah tengik Mungkin karena sang kucing pura-pura mendelik Tikus tahu sang kucing lapar Kasih roti jalan pun lancar Memang sial sang tikus teramat pintar Atau mungkin si kucing yang kurang ditatar Tikus-tikus tak kenal kenyang Rakus, rakus, bukan kepalang Otak tikus memang bukan otak udang Kucing datang tikus menghilang',\n",
              "       'Suatu hari Dikala kita duduk ditepi pantai Dan memandang ombak dilautan yang kian menepi Burung camar terbang Bermain diderunya air Suara alam ini Hangatkan jiwa kita Sementara Sinar surya perlahan mulai tenggelam Suara gitarmu Mengalunkan melodi tentang cinta Ada hati Membara erat bersatu Getar seluruh jiwa Tercurah saat itu Kemesraan ini Janganlah cepat berlalu Kemesraan ini Inginku kenang selalu Hatiku damai Jiwaku tentram di samping mu Hatiku damai Jiwa ku tentram Bersamamu Sementara Sinar surya perlahan mulai tenggelam Suara gitarmu Mengalunkan melodi tentang cinta Ada hati Membara erat bersatu Getar seluruh jiwa Tercurah saat itu Kemesraan ini Janganlah cepat berlalu Kemesraan ini Inginku kenang selalu Hatiku damai Jiwaku tentram di samping mu Hatiku damai Jiwa ku tentram Bersamamu Kemesraan ini Janganlah cepat berlalu Kemesraan ini Inginku kenang selalu Hatiku damai Jiwaku tentram di samping mu Hatiku damai Jiwa ku tentram Bersamamu',\n",
              "       'Kalau cinta sudah dibuang Jangan harap keadilan akan datang Kesedihan hanya tontonan Bagi mereka yang diperkuda jabatan Wo o ya o ya o ya bongkar Wo o ya o ya o ya bongkar Sabar, sabar, sabar dan tunggu Itu jawaban yang kami terima Ternyata kita harus ke jalan Robohkan setan yang berdiri mengangkang Wo o ya o ya o ya bongkar Wo o ya o ya o ya bongkar Wo o ya o ya o ya bongkar Wo o ya o ya o ya bongkar Penindasan serta kesewenang-wenangan Banyak lagi, teramat banyak untuk disebutkan Hoi hentikan, hentikan jangan diteruskan Kami muak dengan ketidakpastian dan keserakahan Di jalanan kami sandarkan cita-cita Sebab di rumah tak ada lagi yang bisa dipercaya Orang tua pandanglah kami sebagai manusia Kami bertanya tolong kau jawab dengan cinta O-o-oh! Wo o ya o ya o ya bongkar Wo o ya o ya o ya bongkar Wo o ya o ya o ya bongkar Wo o ya o ya o ya bongkar Penindasan serta kesewenang-wenangan Banyak lagi, teramat banyak untuk disebutkan Hoi hentikan, hentikan jangan diteruskan Kami muak dengan ketidakpastian dan keserakahan Wo o ya o ya o ya bongkar Wo o ya o ya o ya bongkar Wo o ya o ya o ya bongkar Wo o ya o ya o ya bongkar Di jalanan kami sandarkan cita-cita Sebab di rumah tak ada lagi yang bisa dipercaya Orang tua pandanglah kami sebagai manusia Kami bertanya tolong kau jawab dengan cinta Wo o ya o ya o ya bongkarWo o ya o ya o ya bongkar Wo o ya o ya o ya bongkar Wo o ya o ya o ya bongkar',\n",
              "       'Untukmu yang duduk sambil diskusi Untukmu yang biasa bersafari Di sana di gedung DPR Wakil rakyat kumpulan orang hebat Bukan kumpulan teman-teman dekat Apalagi sanak famili Di hati dan lidahmu kami berharap Suara kami tolong dengar lalu sampaikan Jangan ragu jangan takut karang menghadang Bicaralah yang lantang jangan hanya diam Di kantong safarimu kami titipkan Masa depan kami dan negeri ini Dari Sabang sampai Merauke Saudara dipilih bukan dilotre Meski kami tak kenal siapa saudara Kami tak sudi memilih para juara Juara diam juara he-eh juara hahaha Untukmu yang duduk sambil diskusi Untukmu yang biasa bersafari Di sana di gedung DPR Di hati dan lidahmu kami berharap Suara kami tolong dengar lalu sampaikan Jangan ragu jangan takut karang menghadang Bicaralah yang lantang jangan hanya diam Wahai sahabat Wakil rakyat seharusnya merakyat Jangan tidur waktu sidang soal rakyat Wakil rakyat bukan paduan suara Hanya tahu nyanyian lagu setuju Wakil rakyat seharusnya merakyat Jangan tidur waktu sidang soal rakyat Wakil rakyat bukan paduan suara Hanya tahu nyanyian lagu setuju Wakil rakyat seharusnya merakyat Jangan tidur waktu sidang soal rakyat Wakil rakyat bukan paduan suara Hanya tahu nyanyian lagu setuju Wakil rakyat seharusnya merakyat Jangan tidur waktu sidang soal rakyat Wakil rakyat bukan paduan suara Hanya tahu nyanyian lagu setuju Wakil rakyat seharusnya merakyat Jangan tidur waktu sidang soal rakyat Wakil rakyat bukan paduan suara Hanya tahu nyanyian lagu setuju Wakil rakyat seharusnya merakyat Jangan tidur waktu sidang soal rakyat Wakil rakyat bukan paduan suara Hanya tahu nyanyian lagu setuju Wakil rakyat seharusnya merakyat Jangan tidur waktu sidang soal rakyat Bukan paduan suara Hanya tahu nyanyian lagu setuju',\n",
              "       'Denting piano Kala jemari menari Nada merambat pelan Di kesunyian malam Saat datang rintik hujan Bersama sebuah bayang Yang pernah terlupakan Hati kecil berbisik Untuk kembali padanya Seribu kata menggoda Seribu sesal di depan mata Seperti menjelma Waktu aku tertawa Kala memberimu dosa Oh maafkanlah Oh maafkanlah Rasa sesal di dasar hati Diam tak mau pergi Haruskah aku lari dari kenyataan ini Pernah ku mencoba tuk sembunyi Namun senyummu tetap mengikuti Hati kecil berbisik Untuk kembali padanya Seribu kata menggoda Seribu sesal di depan mata Seperti menjelma Waktu aku tertawa Kala memberimu dosa Rasa sesal di dasar hati Diam tak mau pergi Haruskah aku lari dari kenyataan ini Pernah ku mencoba tuk sembunyi Namun senyummu tetap mengikuti Rasa sesal di dasar hati Diam tak mau pergi Haruskah aku lari dari kenyataan ini Pernah ku mencoba tuk sembunyi Namun senyummu tetap mengikuti Rasa sesal di dasar hati Diam tak mau pergi Haruskah aku lari dari kenyataan ini Pernah ku mencoba tuk sembunyi Namun senyummu tetap mengikuti',\n",
              "       'Memang banyak yang bilang aku tampan rupawan Bentuk tubuhku seksi, kekar tegap berisi Dengan tatapan tajam penuh percaya diri Bikin wanita tergila-gila, mabuk kepayang Pandai bernyanyi apalagi menari lulus dengan sempurna Ditambah gaya trendy bak pria masa kini Akulah lelaki idola sejati Tapi jangan bilang mama Aku takut nanti dia bisa marah-marah Kalau tahu aku ini adalah boy band boy band boy band Memang banyak yang bilang aku tampan rupawan Bentuk tubuhku seksi, kekar tegap berisi Dengan tatapan tajam penuh percaya diri Bikin wanita tergila-gila, mabuk kepayang Aku pandai bernyanyi apalagi menari ... lulus dengan sempurna Ditambah gaya trendy bak pria masa kini Akulah lelaki idola sejati Tapi jangan bilang mama Aku takut nanti dia bisa marah-marah Kalau tahu aku ini adalah boy band boy band boy band Tapi jangan bilang mama Aku takut nanti dia bisa marah-marah Kalau tahu aku ini adalah boy band boy band boy band Tapi jangan bilang mama Aku takut nanti dia bisa marah-marah Kalau tahu aku ini adalah boy band boy band boy band Tapi jangan bilang mama Aku takut nanti dia bisa marah-marah Kalau tahu aku ini adalah boy band boy band boy band Tapi jangan bilang mama Aku takut nanti dia bisa marah-marah Kalau tahu aku ini adalah boy band boy band boy band Aku ini boy band, aku emang boy band Aku memang aku memang boy band',\n",
              "       \"Luka itu memang terlalu berat untukmu Terlalu keras untuk kau rasakan Tak seperti keinginan dan harapan Yang selalu kau impikan, kau inginkan Kau khayalkan dan kau bayangkan dulu Mestinya kau sadari itu Bukan penyesalan yang ada di hati Saat kau yakinkan diri 'tuk pergi Coba hadapi semua ini sendiri Dan ternyata keyakinan Tak cukup mampu untuk melawan Kau pun tak mampu bertahan Kini kau mawar penghias malam Kau mawar hitam, harummu kepedihan Kau arungi waktu di setiap pelukan Langit tetap saja hitam Meski air mata darah kau curahkan Meratapi diri rindukan jalan terbaik Untuk tetap berdiri Penyesalan (Penyesalan) Memang selalu menakutkan Tapi itu kenyataan (Itu kenyataan) Woh-woh-who Na-na-na-na, na-na-na-na Woh-woh-who Na-na-na-na, na-na-na-na Dan ternyata keyakinan Tak cukup mampu untuk melawan Kau pun tak mampu bertahan Kini kau mawar penghias malam Kau mawar hitam, harummu kepedihan Kau arungi waktu di setiap pelukan Jangan menangis meski kau sesali Singkirkan semua bila tak kau inginkan\",\n",
              "       'Lihat senyum manis diatas bibir bergincu Kerdip mata merayu jelas coba mengganggu Tawa renyah terpasang bukan tanpa tujuan Satu korban terjerat itulah harapan Wangi parfum semerbak membius pusat syaraf Hadirkan bayangan tuk lepas keresahan Bergejolak semua coba berontak Ketika tak kuasa langsung kulari mengelak Ah entah sampai kapan Kau mampu bertahan Hindari kenyataan entah sampai kapan Kau mampu bertahan Mungkin kau terfikir lepas belenggu hitam Hidup memang selalu penuh dengan warna – warni Bila terjebak sulit untuk coba keluar Semua pasti ada jalan keluar Cobalah berusaha Ah entah sampai kapan Kau mampu bertahan hindari kenyataan entah sampai kapan Mungkinkah terpikir lepas belenggu hitam',\n",
              "       \"Terlalu lama engkau terkenang Hancurkan diri, kian jauh tenggelam Lelah mencoba 'tuk lepaskan beban Kaubeli mimpi, semu tak berarti sendiri Tak mampu kau beranjak pergi Jalan yang panjang, nanar kautatap Tak lagi peduli semua yang terjadi S'makin dalam larut anganmu melayang Mimpimu hadirkan semua penantian Alunan apa ajak kau bernyanyi? Akhirnya kau pun pergi tak kembali Banyak sudah kisah yang tertinggal Kaubuat jadi satu kenangan Seorang sahabat pergi Tanpa tangis, arungi mimpi S'lamat jalan, Kawan, cepatlah berlabuh Mimpimu kini t'lah kaudapati Tak ada lagi seorang pun yang mengganggu Kau bernyanyi Tiap haruku hanya sanggup mengingat Jelas bayangmu yang masih melekat Dalam kecewa, ku hanya mampu katakan Tetaplah tersenyum, kar'na itu jalan yang telah kaupilih Terbanglah, oh, terbanglah bersama pelangi Banyak sudah kisah yang tertinggal Kaubuat jadi satu kenangan Seorang sahabat pergi Tanpa tangis, arungi mimpi S'lamat jalan, Kawan, cepatlah berlabuh Mimpimu kini t'lah kaudapati Tak ada lagi seorang pun yang mengganggu Kau bernyanyi S'moga dalam damai, engkau mengerti Arti dalamnya jalan yang kaudaki Hingga indahnya bias mentari Tak lagi kaunikmati S'lamat jalan, Kawan, cepatlah berlabuh Mimpimu kini t'lah kaudapati Tak ada lagi seorang pun yang mengganggu Kau bernyanyi\",\n",
              "       'Saat bulan purnama bersinar Terangi malamku teringat padamu Dan kukirimkan salam tentang rasa rinduku Bersama angin malam kusetia menunggu Mimpikan mimpikan aku oh sayangku Peluk erat hati ini dan jagalah selalu Dan kan kudendangkan lagu ini untukmu Dengarlah Dengarlah sayang Ingatlah saat kita bersama Kau pegang tanganku kutatap matamu Semua terasa indah tak seorangpun mengganggu Bersedih dan tertawa kita tetap bersatu Bintang benderang secerah hatiku Yang selalu terbayang kekasihku sayang Di setiap mimpimu ku kan selalu berdendang Dengarlah Dengarlah sayang Kuatkanlah dinding hati Janji kita tak akan pernah terbagi Biar malam terus berganti Yakinlah kau tetap bungaku Genggam erat hatiku ini Kan kuciptakan damai untukmu Biar bulan terus berlalu Yakinlah kau tetap bungaku Yakinlah kau tetap milikku Saat bulan purnama bersinar Terangi malamku teringat padamu Dan kukirimkan salam tentang rasa rinduku Dengarlah Oh dengarlah sayang Kuatkanlah dinding hati Janji kita tak akan pernah terbagi Biar malam terus berganti Yakinlah kau tetap bungaku Genggam erat hatiku ini Kan kuciptakan damai untukmu Biar bulan terus berlalu Yakinlah kau tetap bungaku Yakinlah kau tetap milikku Yakinlah yakinlah bungaku Sayangku',\n",
              "       'Kita cuma main-main Jangan pikir lain-lain Apalagi jadi pacarku Nggak mungkin Percuma kau rayu aku Percuma kau paksa aku Percuma semua percuma Percuma saja Tapi tenang malam ini untukmu Kalau sama-sama suka Buat apa mikir-mikir Malah cuma bikin pusing Nggak penting Kau tau ku suka kamu Ku tau kau perlu aku Kau tau dan aku tau Kita setuju Tapi tenang ku jaga rahasiamu Tenang tenang ku nggak kan bilang-bilang Kita ciptakan malam paling indah Penuh bunga-bunga Tapi bila esok pagi tlah tiba Jadikan kenangan, simpan dalam hati Kalau sama-sama suka Buat apa mikir-mikir Malah cuma bikin pusing Nggak penting Kau tau ku suka kamu Ku tau kau perlu aku Ku tau dan kamu tau Kita setuju Tapi tenang ku jaga rahasiamu Tenang tenang ku nggak kan bilang-bilang Tapi tenang ku jaga rahasiamu Tenang tenang ku nggak kan bilang-bilang Kita ciptakan malam paling indah Penuh bunga-bunga Tapi bila esok pagi tlah tiba Jadikan kenangan, Jadikan kenangan, simpan dalam hati',\n",
              "       'Sakit hati Bikin sakit hati Semua ini terjadi berkali-kali Nggak pernah aku mengerti Mengapa begini? Masih saja kau selalu ingkari janji Cobalah rasakan apa yang kurasa Hati ini sakit dibohongi Setiap kali kau tebar ribuan janji Nggak pernah terbukti cuman mimpi Sakit hati Bikin sakit hati Semua ini terjadi berkali-kali Nggak pernah aku mengerti Mengapa begini? Masih saja kau selalu ingkari janji Kau taburkan bunga di angan-angan Hingga jiwa-ragaku melayang Saat semua kembali aku tersentak Yang kurasa hanyalah kecewa Sakit hati Bikin sakit hati Semua ini terjadi berkali-kali Nggak pernah aku mengerti Mengapa begini? Masih saja kau selalu ingkari janji Kau taburkan bunga di angan-angan Hingga jiwa-ragaku melayang Saat semua kembali aku tersentak Yang kurasa hanyalah kecewa Sakit hati Bikin sakit hati Semua ini terjadi berkali-kali Nggak pernah aku mengerti Mengapa begini? Masih saja kau selalu ingkari janji Sakit hati (sakit hati) Bikin sakit hati (sakit hati) Semua ini terjadi berkali-kali Nggak pernah aku mengerti Mengapa begini? Masih saja kau selalu ingkari janji',\n",
              "       'Ku tatap dunia Terasa perih luka di dada Pertempuran manusia Yang buta indahnya perbedaan Oh indahnya Ku bisa engkaupun bisa Melupakan kebencian yang ada Bersama kita terluka Bersama kita bisa tertawa Dan tertawa Ayo bangun dunia di dalam perbedaan Jika satu tetap kuat kita bersinar Harus percaya tak ada yang sempurna Dan dunia kembali tertawa Bayangkan dan senyumlah Mahkota emas tiada artinya Ketika raja dan ratu Memimpin dunia semua bersatu Dan bersatu Ayo bangun dunia di dalam perbedaan Jika satu tetap kuat kita bersinar Harus percaya tak ada yang sempurna Dan dunia kembali tertawa Jabat erat tanganku kawan Kau tak akan pernah sendiri Hancurkan dendam dengan cinta di dada Untuk semua manusia Ayo bangun dunia di dalam perbedaan Jika satu tetap kuat kita bersinar Harus percaya tak ada yang sempurna Dan dunia kembali tertawa Ayo bangun dunia di dalam perbedaan Jika satu tetap kuat kita bersinar Harus percaya tak ada yang sempurna Dan dunia kembali tertawa Ayo bangun dunia di dalam perbedaan Jika satu tetap kuat kita bersinar Harus percaya tak ada yang sempurna Dan dunia kembali tertawa',\n",
              "       \"Inilah Radio Revolusi Indonesia Mempersembahkan sebuah langgam nostalgia Andai ku malaikat, kupotong sayapku Dan rasakan perih di dunia bersamamu Perang 'kan berakhir, cinta 'kan abadi Di tanah anarki, romansa terjadi Desing peluru tak bertuan Hari-hari yang tak benderang Setiap detik nyawa ini Kupertahankan untukmu Alasanku ada di sini Dan parasmu yang kurindukan Di neraka 'kan kumenangkan Hariku bersamamu Andai ku malaikat, kupotong sayapku Dan rasakan perih di dunia bersamamu Perang 'kan berakhir, cinta 'kan abadi Di tanah anarki, romansa terjadi Dalam gelisah, ku menunggu (ha-ah) Berita tentang gerilyamu (ha-ah) Semerbak rindu kuasai Udara panas ini Sepucuk surat telah tiba Dan senja pun ikut berdebar Kalimat indah dan kisahmu Tentang perang dan cinta Andai ku malaikat, kupotong sayapku Dan rasakan perih di dunia bersamamu Perang 'kan berakhir, cinta 'kan abadi Di tanah anarki, romansa terjadi Kubasuh luka dengan air mata Oh, hatimu beku serta jiwamu yang lelah Tak henti lawan dunia Dengan mimpi besar untuk cinta Dan jalan untuk pulang Di ujung waktu 'kan ada cahaya Itulah aku Raihlah mimpimu Andai ku malaikat, kupotong sayapku Dan rasakan perih di dunia bersamamu Perang 'kan berakhir, cinta 'kan abadi Di tanah anarki, romansa terjadi Andai ku malaikat, kupotong sayapku Dan rasakan perih di dunia bersamamu Perang 'kan berakhir, cinta 'kan abadi Di tanah anarki, romansa terjadi Itulah aku Raihlah mimpimu\",\n",
              "       'Jauh jalan yang harus kau tempuh Mungkin samar bahkan mungkin gelap Tajam kerikil setiap saat menunggu Engkau lewat dengan kaki tak bersepatu Duduk sini nak dekat pada bapak Jangan kau ganggu ibumu Turunlah lekas dari pangkuannya Engkau lelaki kelak sendiri Jauh jalan yang harus kau tempuh Mungkin samar bahkan mungkin gelap Duduk sini nak dekat pada bapak Jangan kau ganggu ibumu Turunlah lekas dari pangkuannya Engkau lelaki kelak sendiri',\n",
              "       'Ketika siapa saja sendirian Berdiam diri tak ada hiburan Jika kau merasakan kesepian Datang kemari kita senang-senang Semua berdiri, waktunya beraksi Penindasan kekerasaan gak jaman Kami datang membawa perdamaian Ciptakan suasana tak terlupakan Lantangkan suaramu dan teriakkan Alunan distorsi, kotak pun beraksi Yang ada di sana, yang ada di sini Semua ikut bernyanyi Hey, yang datang di sini Jangan bikin keki Bikin suasana happy Beraksi Beraksi Hey, yang ada di sana Semua bernyanyi Hey, yang ada di sini Semua happy Hey, yang ada di sana, yang ada di sini Semua ikut bernyanyi Hey, yang datang di sini Jangan bikin keki Bikin suasana happy Beraksi Beraksi',\n",
              "       \"Ku tahu, kamu pasti rasa Apa yang kurasa Ku tahu, cepat atau lambat Kamu 'kan mengerti Hati bila dipaksakan Pasti takkan baik Pantasnya kamu mencintai Yang juga cintai dirimu Cinta kamu Lepaskanlah ikatanmu dengan aku Biar kamu senang Bila berat melupakan aku Pelan-pelan saja Tak ada niat menyakiti Inilah hatiku Pantasnya kamu mencintai Yang juga cintai dirimu Cinta kamu Lepaskanlah ikatanmu dengan aku Biar kamu senang Bila berat melupakan aku Pelan-pelan saja, oh Pelan-pelan saja Lepaskanlah ikatanmu dengan aku Biar kamu senang Bila berat melupakan aku Pelan-pelan saja Pelan-pelan saja (Lepaskan aku, lepaskan aku, lepaskan aku) Pelan-pelan saja\",\n",
              "       'Kalau harus ku mengingatmu lagi Aku takkan sanggup dengan yang terjadi pada kita Jika melupakanmu hal yang mudah Ini takkan berat, takkan membuat hatiku lelah Kalah, kuakui aku kalah Cinta ini pahit dan tak harus memiliki Jika aku bisa, ku akan kembali Ku akan merubah takdir cinta yang kupilih Meskipun tak mungkin, walaupun ku mau Membawa kamu lewat mesin waktu Jika melupakanmu hal yang mudah Ini takkan berat, takkan membuat hatiku lelah Panjang perjalanan yang harus kulalui Merelakanmu Jika aku bisa, ku akan kembali Ku akan merubah takdir cinta yang kupilih Meskipun tak mungkin, walaupun ku mau Membawa kamu lewat mesin waktu, ho-uh-oh Wo-uh-oh Jika aku bisa, ku akan kembali Ku akan merubah takdir cinta yang kupilih Meskipun tak mungkin, walaupun ku mau Membawa kamu, oh-oh Jika aku bisa, ku akan kembali Ku akan merubah takdir cinta yang kupilih Meskipun tak mungkin, walaupun ku mau Membawa kamu lewat mesin waktu',\n",
              "       \"do do do do do (Re) - re re re re re re (Mi) - mi mi mi mi (Fa) - fa fa fa fa fa fa doakan 'ku harus pergi (Re) - relakan aku di sini (Mi) - misalnya aku 'kan pulang (Fa) - fastikan kau tetap menunggu (Sol) - soal cinta luar biasa (La) - lama-lama bisa gila (Si) - siapa yang tahu pasti (Do) - doakan aku di sini A-du-du-duh-duh aku percaya Kali ini kau pasti bisa yeah Ku-ku-kutanya ada yang salah Jelas ini luar biasa Hal yang baik tidak mudah Tak seperti kau bicara Mereka mengerti Ini terlalu jadi masalah Ketika kau mulai bisa Terbiasa untuk dapat menikmati Hari-hari tanpaku di sini doakan 'ku harus pergi (Re) - relakan aku di sini (Mi) - misalnya aku 'kan pulang (Fa) - fastikan kau tetap menunggu (Sol) - soal cinta luar biasa (La) - lama-lama bisa gila (Si) - siapa yang tahu pasti (Do) - doakan aku di sini Hal yang baik tidak mudah Tak seperti kau bicara Mereka mengerti Ini terlalu jadi masalah Ketika kau mulai bisa Terbiasa untuk dapat menikmati Hari-hari tanpaku di sini doakan 'ku harus pergi (Re) - relakan aku di sini (Mi) - misalnya aku 'kan pulang (Fa) - fastikan kau tetap menunggu (Sol) - soal cinta luar biasa (La) - lama-lama bisa gila (Si) - siapa yang tahu pasti (Do) - doakan aku di sini Everybody sings it! doakan 'ku harus pergi (Re) - relakan aku di sini (Mi) - misalnya aku 'kan pulang (Fa) - fastikan kau tetap menunggu (Sol) - soal cinta luar biasa (La) - lama-lama bisa gila (Si) - siapa yang tahu pasti (Do) - doakan aku di sini Doakan 'ku harus pergi Relakan aku di sini Misalnya aku 'kan pulang Fa-fa-fastikan kau yang menunggu Soal cinta luar biasa Lama-lama bisa gila Siapa yang tahu pasti Doakan aku di sini\",\n",
              "       'Aku mengerti perjalanan hidup yang kini kau lalui Ku berharap meski berat kau tak merasa sendiri Kau telah berjuang menaklukankan hari-hari mu yang tak mudah Biar ku menemanimu membasuh lelah mu Izinkan ku lukis senja Mengukir namamu di sana Mendengar kamu bercerita Menangis tertawa Biar ku lukis malam Bawa kamu bintang-bintang Tuk temanimu yang terluka Hingga kau bahagia Aku disini walau letih coba lagi jangan berhenti Ku berharap meski berat kau tak merasa sendiri Kau telah berjuang menaklukankan hari-hari mu yang tak indah Biar ku menemanimu membasuh lelah mu Izinkan ku lukis senja Mengukir namamu di sana Mendengar kamu bercerita Menangis tertawa Biar ku lukis malam Bawa kamu bintang-bintang Tuk temanimu yang terluka Hingga kau bahagia hah Izinkan ku lukis senja Mengukir namamu di sana Mendengar kamu bercerita Menangis tertawa Biar ku lukis malam Bawa kamu bintang-bintang Tuk temanimu yang terluka Hingga kau bahagia Tuk temanimu yang terluka Hingga kau bahagia',\n",
              "       'Ku rasa ku sedang jatuh cinta Karena rasanya ini berbeda Oh apakah ini memang cinta Selalu berbeda saat menatapnya Mengapa aku beginiHilang berani dekat denganmuIngin ku memilikimuTapi aku tak tahu Bagaimana caranya? Tolong katakan pada dirinya Lagu ini kutuliskan untuknya Namanya selalu ku sebut dalam doa Sampai aku mampu ucap, maukah denganku? Ku rasa ku sedang jatuh cinta Karna rasanya ini berbeda Oh apakah ini memang cinta Selalu berbeda saat menatapnya Di sini aku berdiri Menanti waktu yang tepat Hingga akhirnya ku mampu Katakan padamu Tolong katakan pada dirinya Lagu ini kutuliskan untuknya Namanya selalu ku sebut dalam doa Mungkinkah dia tahu Cinta yang ku mau?Tolong katakan pada dirinya Lagu ini kutuliskan untuknya Namanya selalu ku sebut dalam doa Sampai aku mampu ucap, maukah denganku? Maukah kau dengan aku?',\n",
              "       \"Waktu terasa semakin berlalu Tinggalkan cerita tentang kita Kini, di mana kucari tawamu 'Tuk hapuskan semua sepi di hati? Ada cerita tentang aku dan dia Dan kita bersama saat dulu kala Ada cerita tentang masa yang indah Saat kita berduka, saat kita tertawa Teringat di saat kita tertawa bersama Ceritakan semua tentang kita Ada cerita tentang aku dan dia Dan kita bersama saat dulu kala Ada cerita tentang masa yang indah Saat kita berduka, saat kita tertawa\",\n",
              "       'Ku pernah punya mobil balap sendiri Yang bisa ngebut di jalanan tiap hari Ku tidak pernah merasakan kesepian Tak ada gadis yang menolak diantarkan Asoy geboy ngebut di jalanan ibukota Dipayungi lampu kota di sekitar kita Suatu hari ada orang yang menantang Gairah sembalapku makin tak tertahan Kubalap dia dari kiri banting kanan Tak kumelihat kuterobos lampu merah Tiba-tiba pak pulisi datang menghampiri Kutancap gas dengan maksud melarikan diri Akhirnya ku menabrak pohon yang melintang Tolong dong pak... Tolong dong pak, jangan ditilang SIM pun tak ada STNK entah ke mana Dan hingga kini ku berada di tahanan',\n",
              "       \"Sebelum gelap kita tertawa Berjanji setia sampai ujung masa Meski kau dan aku jauh di sana Ingat janji kita untuk selamanya Hilang harapan Saat kau katakan semua telah usai Kau menemukan Yang baru kini aku kau tinggalkan Meski sendiri aku 'kan bertahanMemegang janji yang kita ucapkan Berat rasanya hatiku berkata Semoga bahagia engkau dengannya Selama mataku bisa menatap Kukenang kau sebagai memori kelam Ingin rasanya hatiku berkata Ingat janji dulu kita bersama Walaupun gelap kucoba tertawa Bertahan sendiri meskipun semua percuma Kau pergi tanpa kata\",\n",
              "       \"Telah lama bersama Sekian lama bersama Namun kau pilih dia 'tuk temani hidupmu Dimana rasa malumu Dimana harga dirimu Kau pilih dia ternyata lebih baik dariku Tapi inilah aku 'Kan kunikmati hidupku Wanita masih banyak yang menunggu Aku salut padamu Kau sakiti pria setampan diriku Juga meninggalkanku Kulihat kau bersamanya Ternyata memang kukalah Dari segi harta ku tak punya apa-apa Ternyata cinta dan harta Tak mungkin jauh terpisah Dimana ada harta, disitu ada cinta Tapi inilah aku 'Kan kunikmati hidupku Wanita masih banyak yang menunggu Aku salut padamu Kau sakiti pria setampan diriku Juga meninggalkanku Kubiarkan kau nikmati dirinya Puaskanlah hatimu dengan hartanya Dan ku sadar aku manusia sengsara Tak punya apa-apa Tapi hidupku penuh cinta\",\n",
              "       \"Terkadang 'ku curiga, temanku buruk rupa Pacarnya seperti artis korea Aku selalu merasa hidupku tak berguna Hanya bisa mengeluh menyalahkan keadaan Terkadang 'ku curiga, pejabat bisa kaya Tapi curiga itu tak berguna Lebih baik usaha, jangan lupa berdoa Minta doa restu dari kedua orang tua Rasanya aku sedang melayang Mungkin akan terbang Menembus batas kewajaran Nonton TV, gosip pagi, biasa Sinetron tentang SMA dan cinta Nonton kartun kena sensor, anehnya Buka handphone chat gak ada, sadisnya Mereka bilang aku pecundang Santai saja, kawan Mereka itu bukan Tuhan Lidah gua genggam, tangan gua kapalan Lagu ini kenceng  banget, gua nggak tahan Lain kali jangan buat lagu ginian Temponya yang santai saja Hidup membosankan tak punya pasangan Terkadang aku pun diacuhkan Berikan aku, berikan aku kekuatan Hidup membosankan tak punya pasangan Terkadang aku pun diacuhkan Berikan aku, berikan aku kekuatan Hey kawan, semua tak perlu kau fikirkan Jadikanlah semua ini sebuah acuan Karena hidup selalu belajar dan belajar (Masa depan) Beli pulsa uang kurang, kasihan Butuh uang bayar kosan sebulan Lihat teman gandeng pacar di taman Lihat mantan jalan-jalan\",\n",
              "       'Kelak kau kan menjalani hidupmu sendiriMelukai kenangan yang telah kita lalui Yang tersisa hanya aku sendiri di siniKau akan terbang jauh menembus awan Memulai kisah baru tanpa diriku Seandainya kau tau ku tak ingin kau pergi Meninggalkan ku sendiri bersama bayanganku Seandainya kau tau aku kan selalu cinta Jangan kau lupakan kenangan kita selama ini Kelak kau kan menjalani hidupmu sendiri Melukai kenangan yang telah kita lalui Kau akan terbang jauh menembus awan Memulai kisah baru tanpa diriku Seandainya kau tau ku tak ingin kau pergi Meninggalkan ku sendiri bersama bayanganku Seandainya kau tau aku kan selalu cinta Jangan kau lupakan kenangan kita selama ini Selama ini Seandainya kau tau ku tak ingin kau pergi oh Meninggalkan ku sendiri bersama bayanganku Seandainya kau tau aku kan selalu cinta Jangan kau lupakan kenangan kita selama ini oh Selama ini',\n",
              "       'Kau tak sepenuhnya sendiri Aku kan slalu ada di sini Mengapa oh mengapa dirimu Penuh dengan rasa bimbang Tak perlu kau pergi tuk mencari Mencari arti cinta Aku sendiri di sini menunggu Aku sendiri di sini menanti Aku tak terbiasa untuk berharap Berlari untuk mengejar dirimu Dalam menggapai semua impiku Smoga kau kan tetap jadi apa yang ku inginkan Mengapa oh mengapa dirimu Penuh dengan rasa bimbang Tak perlu kau pergi tuk mencari Mencari arti cinta Aku sendiri di sini menunggu Aku sendiri di sini menanti Aku tak terbiasa untuk berharap Berlari untuk mengejar dirimu Dalam menggapai semua impiku Smoga kau kan tetap jadi apa yang ku inginkan Jangan pernah berubah Ingat janjimu Jangan pernah menghilang Dari hatiku Aku sendiri di sini menunggu Aku sendiri di sini menanti Aku tak terbiasa untuk berharap Berlari untuk mengejar dirimu Dalam menggapai semua impiku Smoga kau kan tetap jadi apa yang ku inginkan',\n",
              "       'Berat bebanku MeninggalkanmuSeparuh nafas jiwaku sirna Bukan salahmu Apa dayaku Mungkin benar cinta sejati tak berpihak pada kita Kasihku Sampai disini kisah kita Jangan tangisi keadaannya Bukan karena kita berbeda DengarkanDengarkan lagu lagu iniMelodi rintihan hati ini Kisah kita Berakhir di Januari Selamat tinggal kisah sejatiku Wow pergilah Kasihku Sampai disini kisah kita Jangan tangisi keadaannya Bukan karena kita berbeda wow Dengarkan lagu lagu ini Melodi rintihan hati ini Kisah kita berakhir di januari (wow ye he oh) Dengarkan lagu lagu ini Melodi rintihan hati ini Kisah kita berakhir wow Berakhir Berakhir di januari (hu) Berakhir di januari',\n",
              "       \"Terlalu indah dilupakan Terlalu sedih dikenangkan Setelah aku jauh berjalan Dan kau kutinggalkan Betapa hatiku bersedih Mengenang kasih dan sayangmu Setulus pesanmu kepadaku Engkau 'kan menunggu Andaikan kau datang kembali Jawaban apa yang 'kan kuberi? Adakah cara yang kau temui Untuk kita kembali lagi? Betapa hatiku bersedih Mengenang kasih dan sayangmu Setulus pesanmu kepadaku Engkau 'kan menunggu Andaikan kau datang kembali Jawaban apa yang 'kan kuberi? Adakah cara yang kau temui Untuk kita kembali lagi? Bersinarlah bulan purnama Seindah serta tulus cintanya Bersinarlah terus sampai nanti Lagu ini, oh-oh Andaikan kau datang kembali Jawaban apa yang 'kan kuberi? Adakah cara yang kau temui Untuk kita kembali lagi? Bersinarlah bulan purnama Seindah serta tulus cintanya Bersinarlah terus sampai nanti Lagu ini kuakhiri\",\n",
              "       'Kulepas semua yang kuinginkan Tak akan kuulangi Maafkan jika kau kusayangi Dan bila kumenanti Pernahkah engkau coba mengerti Lihatlah aku di sini Mungkinkah jika aku bermimpi Salahkah tuk menanti Takkan lelah aku menanti Takkan hilang cintaku ini Hingga saat kau tak kembali Kan kukenang di hati saja Kau telah tinggalkan hati yang terdalam Hingga tiada cinta yang tersisa di jiwa',\n",
              "       'Ada yang benci dirinya Ada yang butuh dirinya Ada yang berlutut mencintainya Ada pula yang kejam menyiksa dirinya Ini hidup wanita si Kupu-Kupu Malam Bekerja, bertaruh seluruh jiwa raga Bibir senyum, kata halus merayu, memanja Kepada setiap mereka yang datang Dosakah yang dia kerjakan? Sucikah mereka yang datang? Kadang dia tersenyum dalam tangis Kadang dia menangis di dalam senyuman Wo-oh, apa yang terjadi, terjadilah Yang dia tahu Tuhan, penyayang umat-Nya Wo-oh, apa yang terjadi, terjadilah Yang dia tahu hanyalah menyambung nyawa Uh-oh, ah-ah-uh Wo-oh-ho, apa yang terjadi, terjadilah Yang dia tahu Tuhan, penyayang umat-Nya Wo-ho, apa yang terjadi, terjadilah Yang dia tahu hanyalah menyambung nyawaOh-ah-oh-oh',\n",
              "       \"Waktu terus berjalan, tiada yang di sisimu Ingin keluar 'tuk dapatkan pemikiran baru Kukesal hari ini melihat di sekitar Semuanya sama dan seragam Korban dari majalah Dia pikir dia berbeda Dan semua band mengkopi Blink Di manakah pemberontak engkau bersembunyi? Bukankah ini penting Dan perasaanku membunuhku! Kubenci semua yang tak pasti wo, oo Rambut spikey dibilang funky wo, ooMall dipenuhi lambang anarki wo, oo Yang akhirnya hilang tak berarti MTV hari ini, Rock n' Roll telah mati Nyanyikan lagu orang lain dan kau akan terkenal Coba 'tuk tak curiga, tak kuasa 'ku menahan Penuh tattoo juga piercing Nyanyikan lagu cengeng Bukankah ini penting Dan perasaanku membunuhku!\",\n",
              "       'Jauh jalan yang harus kau tempuh Mungkin samar bahkan mungkin gelap Tajam kerikil setiap saat menunggu Engkau lewat dengan kaki tak bersepatu Duduk sini nak dekat pada bapak Jangan kau ganggu ibumu Turunlah lekas dari pangkuannya Engkau lelaki kelak sendiri Jauh jalan yang harus kau tempuh Mungkin samar bahkan mungkin gelap Duduk sini nak dekat pada bapak Jangan kau ganggu ibumu Turunlah lekas dari pangkuannya Engkau lelaki kelak sendiri',\n",
              "       'Suatu hari Dikala kita duduk ditepi pantai Dan memandang ombak dilautan yang kian menepi Burung camar terbang Bermain diderunya air Suara alam ini Hangatkan jiwa kita Sementara Sinar surya perlahan mulai tenggelam Suara gitarmu Mengalunkan melodi tentang cinta Ada hati Membara erat bersatu Getar seluruh jiwa Tercurah saat itu Kemesraan ini Janganlah cepat berlalu Kemesraan ini Inginku kenang selalu Hatiku damai Jiwaku tentram di samping mu Hatiku damai Jiwa ku tentram Bersamamu Sementara Sinar surya perlahan mulai tenggelam Suara gitarmu Mengalunkan melodi tentang cinta Ada hati Membara erat bersatu Getar seluruh jiwa Tercurah saat itu Kemesraan ini Janganlah cepat berlalu Kemesraan ini Inginku kenang selalu Hatiku damai Jiwaku tentram di samping mu Hatiku damai Jiwa ku tentram Bersamamu Kemesraan ini Janganlah cepat berlalu Kemesraan ini Inginku kenang selalu Hatiku damai Jiwaku tentram di samping mu Hatiku damai Jiwa ku tentram Bersamamu',\n",
              "       'Untukmu yang duduk sambil diskusi Untukmu yang biasa bersafari Di sana di gedung DPR Wakil rakyat kumpulan orang hebat Bukan kumpulan teman-teman dekat Apalagi sanak famili Di hati dan lidahmu kami berharap Suara kami tolong dengar lalu sampaikan Jangan ragu jangan takut karang menghadang Bicaralah yang lantang jangan hanya diam Di kantong safarimu kami titipkan Masa depan kami dan negeri ini Dari Sabang sampai Merauke Saudara dipilih bukan dilotre Meski kami tak kenal siapa saudara Kami tak sudi memilih para juara Juara diam juara he-eh juara hahaha Untukmu yang duduk sambil diskusi Untukmu yang biasa bersafari Di sana di gedung DPR Di hati dan lidahmu kami berharap Suara kami tolong dengar lalu sampaikan Jangan ragu jangan takut karang menghadang Bicaralah yang lantang jangan hanya diam Wahai sahabat Wakil rakyat seharusnya merakyat Jangan tidur waktu sidang soal rakyat Wakil rakyat bukan paduan suara Hanya tahu nyanyian lagu setuju Wakil rakyat seharusnya merakyat Jangan tidur waktu sidang soal rakyat Wakil rakyat bukan paduan suara Hanya tahu nyanyian lagu setuju Wakil rakyat seharusnya merakyat Jangan tidur waktu sidang soal rakyat Wakil rakyat bukan paduan suara Hanya tahu nyanyian lagu setuju Wakil rakyat seharusnya merakyat Jangan tidur waktu sidang soal rakyat Wakil rakyat bukan paduan suara Hanya tahu nyanyian lagu setuju Wakil rakyat seharusnya merakyat Jangan tidur waktu sidang soal rakyat Wakil rakyat bukan paduan suara Hanya tahu nyanyian lagu setuju Wakil rakyat seharusnya merakyat Jangan tidur waktu sidang soal rakyat Wakil rakyat bukan paduan suara Hanya tahu nyanyian lagu setuju Wakil rakyat seharusnya merakyat Jangan tidur waktu sidang soal rakyat Bukan paduan suara Hanya tahu nyanyian lagu setuju',\n",
              "       'Denting piano Kala jemari menari Nada merambat pelan Di kesunyian malam Saat datang rintik hujan Bersama sebuah bayang Yang pernah terlupakan Hati kecil berbisik Untuk kembali padanya Seribu kata menggoda Seribu sesal di depan mata Seperti menjelma Waktu aku tertawa Kala memberimu dosa Oh maafkanlah Oh maafkanlah Rasa sesal di dasar hati Diam tak mau pergi Haruskah aku lari dari kenyataan ini Pernah ku mencoba tuk sembunyi Namun senyummu tetap mengikuti Hati kecil berbisik Untuk kembali padanya Seribu kata menggoda Seribu sesal di depan mata Seperti menjelma Waktu aku tertawa Kala memberimu dosa Rasa sesal di dasar hati Diam tak mau pergi Haruskah aku lari dari kenyataan ini Pernah ku mencoba tuk sembunyi Namun senyummu tetap mengikuti Rasa sesal di dasar hati Diam tak mau pergi Haruskah aku lari dari kenyataan ini Pernah ku mencoba tuk sembunyi Namun senyummu tetap mengikuti Rasa sesal di dasar hati Diam tak mau pergi Haruskah aku lari dari kenyataan ini Pernah ku mencoba tuk sembunyi Namun senyummu tetap mengikuti',\n",
              "       'Lihat senyum manis diatas bibir bergincu Kerdip mata merayu jelas coba mengganggu Tawa renyah terpasang bukan tanpa tujuan Satu korban terjerat itulah harapan Wangi parfum semerbak membius pusat syaraf Hadirkan bayangan tuk lepas keresahan Bergejolak semua coba berontak Ketika tak kuasa langsung kulari mengelak Ah entah sampai kapan Kau mampu bertahan Hindari kenyataan entah sampai kapan Kau mampu bertahan Mungkin kau terfikir lepas belenggu hitam Hidup memang selalu penuh dengan warna – warni Bila terjebak sulit untuk coba keluar Semua pasti ada jalan keluar Cobalah berusaha Ah entah sampai kapan Kau mampu bertahan hindari kenyataan entah sampai kapan Mungkinkah terpikir lepas belenggu hitam',\n",
              "       'Saat bulan purnama bersinar Terangi malamku teringat padamu Dan kukirimkan salam tentang rasa rinduku Bersama angin malam kusetia menunggu Mimpikan mimpikan aku oh sayangku Peluk erat hati ini dan jagalah selalu Dan kan kudendangkan lagu ini untukmu Dengarlah Dengarlah sayang Ingatlah saat kita bersama Kau pegang tanganku kutatap matamu Semua terasa indah tak seorangpun mengganggu Bersedih dan tertawa kita tetap bersatu Bintang benderang secerah hatiku Yang selalu terbayang kekasihku sayang Di setiap mimpimu ku kan selalu berdendang Dengarlah Dengarlah sayang Kuatkanlah dinding hati Janji kita tak akan pernah terbagi Biar malam terus berganti Yakinlah kau tetap bungaku Genggam erat hatiku ini Kan kuciptakan damai untukmu Biar bulan terus berlalu Yakinlah kau tetap bungaku Yakinlah kau tetap milikku Saat bulan purnama bersinar Terangi malamku teringat padamu Dan kukirimkan salam tentang rasa rinduku Dengarlah Oh dengarlah sayang Kuatkanlah dinding hati Janji kita tak akan pernah terbagi Biar malam terus berganti Yakinlah kau tetap bungaku Genggam erat hatiku ini Kan kuciptakan damai untukmu Biar bulan terus berlalu Yakinlah kau tetap bungaku Yakinlah kau tetap milikku Yakinlah yakinlah bungaku Sayangku',\n",
              "       'Sakit hati Bikin sakit hati Semua ini terjadi berkali-kali Nggak pernah aku mengerti Mengapa begini? Masih saja kau selalu ingkari janji Cobalah rasakan apa yang kurasa Hati ini sakit dibohongi Setiap kali kau tebar ribuan janji Nggak pernah terbukti cuman mimpi Sakit hati Bikin sakit hati Semua ini terjadi berkali-kali Nggak pernah aku mengerti Mengapa begini? Masih saja kau selalu ingkari janji Kau taburkan bunga di angan-angan Hingga jiwa-ragaku melayang Saat semua kembali aku tersentak Yang kurasa hanyalah kecewa Sakit hati Bikin sakit hati Semua ini terjadi berkali-kali Nggak pernah aku mengerti Mengapa begini? Masih saja kau selalu ingkari janji Kau taburkan bunga di angan-angan Hingga jiwa-ragaku melayang Saat semua kembali aku tersentak Yang kurasa hanyalah kecewa Sakit hati Bikin sakit hati Semua ini terjadi berkali-kali Nggak pernah aku mengerti Mengapa begini? Masih saja kau selalu ingkari janji Sakit hati (sakit hati) Bikin sakit hati (sakit hati) Semua ini terjadi berkali-kali Nggak pernah aku mengerti Mengapa begini? Masih saja kau selalu ingkari janji',\n",
              "       'Ku tatap dunia Terasa perih luka di dada Pertempuran manusia Yang buta indahnya perbedaan Oh indahnya Ku bisa engkaupun bisa Melupakan kebencian yang ada Bersama kita terluka Bersama kita bisa tertawa Dan tertawa Ayo bangun dunia di dalam perbedaan Jika satu tetap kuat kita bersinar Harus percaya tak ada yang sempurna Dan dunia kembali tertawa Bayangkan dan senyumlah Mahkota emas tiada artinya Ketika raja dan ratu Memimpin dunia semua bersatu Dan bersatu Ayo bangun dunia di dalam perbedaan Jika satu tetap kuat kita bersinar Harus percaya tak ada yang sempurna Dan dunia kembali tertawa Jabat erat tanganku kawan Kau tak akan pernah sendiri Hancurkan dendam dengan cinta di dada Untuk semua manusia Ayo bangun dunia di dalam perbedaan Jika satu tetap kuat kita bersinar Harus percaya tak ada yang sempurna Dan dunia kembali tertawa Ayo bangun dunia di dalam perbedaan Jika satu tetap kuat kita bersinar Harus percaya tak ada yang sempurna Dan dunia kembali tertawa Ayo bangun dunia di dalam perbedaan Jika satu tetap kuat kita bersinar Harus percaya tak ada yang sempurna Dan dunia kembali tertawa',\n",
              "       \"do do do do do (Re) - re re re re re re (Mi) - mi mi mi mi (Fa) - fa fa fa fa fa fa doakan 'ku harus pergi (Re) - relakan aku di sini (Mi) - misalnya aku 'kan pulang (Fa) - fastikan kau tetap menunggu (Sol) - soal cinta luar biasa (La) - lama-lama bisa gila (Si) - siapa yang tahu pasti (Do) - doakan aku di sini A-du-du-duh-duh aku percaya Kali ini kau pasti bisa yeah Ku-ku-kutanya ada yang salah Jelas ini luar biasa Hal yang baik tidak mudah Tak seperti kau bicara Mereka mengerti Ini terlalu jadi masalah Ketika kau mulai bisa Terbiasa untuk dapat menikmati Hari-hari tanpaku di sini doakan 'ku harus pergi (Re) - relakan aku di sini (Mi) - misalnya aku 'kan pulang (Fa) - fastikan kau tetap menunggu (Sol) - soal cinta luar biasa (La) - lama-lama bisa gila (Si) - siapa yang tahu pasti (Do) - doakan aku di sini Hal yang baik tidak mudah Tak seperti kau bicara Mereka mengerti Ini terlalu jadi masalah Ketika kau mulai bisa Terbiasa untuk dapat menikmati Hari-hari tanpaku di sini doakan 'ku harus pergi (Re) - relakan aku di sini (Mi) - misalnya aku 'kan pulang (Fa) - fastikan kau tetap menunggu (Sol) - soal cinta luar biasa (La) - lama-lama bisa gila (Si) - siapa yang tahu pasti (Do) - doakan aku di sini Everybody sings it! doakan 'ku harus pergi (Re) - relakan aku di sini (Mi) - misalnya aku 'kan pulang (Fa) - fastikan kau tetap menunggu (Sol) - soal cinta luar biasa (La) - lama-lama bisa gila (Si) - siapa yang tahu pasti (Do) - doakan aku di sini Doakan 'ku harus pergi Relakan aku di sini Misalnya aku 'kan pulang Fa-fa-fastikan kau yang menunggu Soal cinta luar biasa Lama-lama bisa gila Siapa yang tahu pasti Doakan aku di sini\",\n",
              "       'Aku mengerti perjalanan hidup yang kini kau lalui Ku berharap meski berat kau tak merasa sendiri Kau telah berjuang menaklukankan hari-hari mu yang tak mudah Biar ku menemanimu membasuh lelah mu Izinkan ku lukis senja Mengukir namamu di sana Mendengar kamu bercerita Menangis tertawa Biar ku lukis malam Bawa kamu bintang-bintang Tuk temanimu yang terluka Hingga kau bahagia Aku disini walau letih coba lagi jangan berhenti Ku berharap meski berat kau tak merasa sendiri Kau telah berjuang menaklukankan hari-hari mu yang tak indah Biar ku menemanimu membasuh lelah mu Izinkan ku lukis senja Mengukir namamu di sana Mendengar kamu bercerita Menangis tertawa Biar ku lukis malam Bawa kamu bintang-bintang Tuk temanimu yang terluka Hingga kau bahagia hah Izinkan ku lukis senja Mengukir namamu di sana Mendengar kamu bercerita Menangis tertawa Biar ku lukis malam Bawa kamu bintang-bintang Tuk temanimu yang terluka Hingga kau bahagia Tuk temanimu yang terluka Hingga kau bahagia',\n",
              "       \"Mungkin inilah waktunya Mungkin inilah saatnya Aku mengerti rasa sesal Saat ada yang pergi menghilang Kau datang mengukir luka Yang sayang 'tuk dilupakan Kau pergi tanpa mengajarkan Cara 'tuk merelakanmu Usai sudah semua cerita Yang t'lah kita ukir berdua Meninggalkan dirimu adalah Hal terberat yang harus kujalani Aku memang kehilangan Kamu yang sangat kucintai Namun, kau telah kehilangan Aku yang sangat mencintaimu uh-oh Ku akan terus belajar 'tuk melupakan kamu Yang begitu mudah melupakanku Ho-oh Usai sudah semua cerita Yang t'lah kita ukir berdua Meninggalkan dirimu adalah Hal terberat yang harus kujalani Aku memang kehilangan Kamu yang sangat kucintai Namun, kau telah kehilangan Aku yang sangat mencintaimu oh-ho(Yang t'lah kita ukir berdua) uh-oh-uh-oh Meninggalkan dirimu adalah Hal terberat yang harus kujalani Aku memang kehilangan Kamu yang sangat kucintai Namun, kau telah kehilangan Aku yang sangat mencintaimu, hu-oh Aku yang sangat mencintaimu\",\n",
              "       'Sakit rasanya putus cinta Sesaknya di dada Membuat kita jadi gegana Gelisah galau merana Mendingan kita happy aja Lupakan semua Marilah kita goyang bersama Goyang dumang  namanyaAyo goyang dumang Biar hati senang Pikiranpun tenang Galau jadi hilang Ayo goyang dumang Biar hati senang Semua masalah jadi hilang Ayo goyang dumang Biar hati senang Pikiranpun tenang Galau jadi hilang Ayo goyang dumang Biar hati senang Semua masalah jadi hilang Ayo goyang dumang Ayo goyang dumang Ayo goyang dumang Ayo goyang dumang Sakit rasanya putus cinta Sesaknya di dada Membuat kita jadi gegana Gelisah galau merana Mendingan kita happy aja Lupakan semua Marilah kita goyang bersama Goyang dumang namanya Ayo goyang dumang Biar hati senang Pikiranpun tenang Galau jadi  Hilang Ayo goyang dumang Biar hati senang Semua masalah jadi hilang Ayo goyang dumang Biar hati senang Pikiranpun tenang Galau jadi hilang Ayo goyang dumang Biar hati senang Semua masalah jadi hilang Ayo goyang dumang',\n",
              "       'Kau dan aku tercipta oleh waktu Hanya untuk saling mencintai Mungkin kita ditakdirkan bersama Merajut kasih, menjalin cinta Berada di pelukanmu, mengajarkanku Apa artinya kenyamanan, kesempurnaan cinta Berdua bersamamu, mengajarkanku Apa artinya kenyamanan, kesempurnaan cinta Kau dan aku (kau dan aku) tercipta oleh waktu Hanya untuk saling mencintai Mungkin kita ditakdirkan bersama Merajut kasih, menjalin cinta Berada di pelukanmu, mengajarkanku Apa artinya kenyamanan, kesempurnaan cinta Berdua bersamamu, mengajarkanku Apa artinya kenyamanan, kesempurnaan cinta Tak pernah terbayangkan olehku (tak terbayangkan olehku) Bila kautinggalkan aku Hancurlah hatiku Musnah harapanku, Sayang, ha-ah-ah Berada di pelukanmu, mengajarkanku Apa artinya kenyamanan, kesempurnaan cinta Berada di pelukanmu, mengajarkanku Apa artinya kenyamanan, kesempurnaan cinta Berdua bersamamu, mengajarkanku Apa artinya kenyamanan, kesempurnaan cinta Hu-hu-uh Ho-ho-oh Ho-ho-ho-oh',\n",
              "       'Aku kesal dengan jarak Yang sering memisahkan kita Hingga aku hanya bias Berbincang denganmu di whatsapp Aku kesal dengan waktu Yang tak pernah berhenti bergerak Barang sejenak agar ku bias Menikmati tawamu Ingin ku berdiri di sebelahmu Menggenggam erat jari-jarimu Mendengarkan lagu sheila on 7 Seperti waktu itu saat kau di sisiku Dan tunggulah ku di sana Memecahkan celengan rinduku Berboncengan denganmu mengelilingi kota Menikmati surya perlahan menghilang Hingga kejamnya waktu Menarik paksa kau dari pelukku Lalu kita kembali menabung rasa rindu Saling mengirim doa sampai nanti sayangku Jangan matikan hapemu Kau tahu aku benci khawatir Saat kau tak mengabari Aku tak suka bertanya Tanya Ingin ku bakar dia yang sering Mention mentionan denganmu di twitter Namun kau selalu menyakinkanku Ku tumbukan rasa percaya Bukan rasa curiga Dan tunggulah ku di sana Memecahkan celengan rinduku Berboncengan denganmu mengelilingi kota Menikmati surya perlahan menghilang Hingga kejamnya waktu Menarik paksa kau dari pelukku Lalu kita kembali menabung rasa rindu Saling mengirim doa sampai nanti sayangku Paparapa paparapa paparapaparapapa Paparapa pararararararara hingga kita bertemu',\n",
              "       'Masa-masa naik bis kota Dengan wajah yang sama Terbesit bisikan di kepala Keraguan yang kau rasa Asam garam ku rasakan Liar kucing terbengkalai Halte tua tak beralaskan Melihat tubuhnya terkulai Birama kehidupan mu sedang kacau Adakalanya berhenti bersandiwara Tak sekalipun ku meragukan mu Kau pemeran utama di sebuah opera Masa-masa naik bis kota Dengan wajah yang sama Terbesit bisikan di kepala Keraguan yang kau rasa Asam garam ku rasakan Liar kucing terbengkalai Halte tua tak beralaskan Melihat tubuhnya terkulai Birama kehidupan mu sedang kacau Adakalanya berhenti bersandiwara Tak sekalipun ku meragukan mu Kau pemeran utama di sebuah opera Masa-masa naik bis kota Dengan wajah yang sama Terbesit bisikan di kepala Keraguan yang kau rasa Asam garam ku rasakan Liar kucing terbengkalai Halte tua tak beralaskan Melihat tubuhnya terkulai Birama kehidupan mu sedang kacau Adakalanya tersenyum bersandiwara Tak sekalipun ku meragukan mu Kau pemeran utama di sebuah opera Kau pemeran utama di sebuah opera',\n",
              "       'Merangkai langit dan samuderanya Cahaya lama mu, kau bercanda Rasi dan bintang nya Seratus juta tahun terlewatkan Ku ingin melukis semesta Menuju garis tak terhingga Ku ingin merubah dimensi Mengorbit melintas galaksi Langit tak seharusnya biru Putih tak seharusnya cahaya Ramalan dan mesin waktu Seratus kata aku percaya, aku percaya Merangkai langit dan samuderanya Cahaya lama mu, kau bercanda Rasi dan bintang nya Seratus juta tahun terlewatkan Ku ingin melukis semesta Menuju garis tak terhingga Ku ingin merubah dimensi Mengorbit melintas galaksi Langit tak seharusnya biru Putih tak seharusnya cahaya Ramalan dan mesin waktu Seratus kata aku percaya, aku percaya Merangkai langit dan samuderanya Cahaya lama mu, kau bercanda Rasi dan bintang nya Seratus juta tahun terlewatkan Ku ingin melukis semesta Menuju garis tak terhingga Ku ingin merubah dimensi Mengorbit melintas galaksi Langit tak seharusnya biru Putih tak seharusnya cahaya Ramalan dan mesin waktu Seratus kata aku percaya, aku percaya',\n",
              "       'Ayah disini ku sendirian Merenungi kata yang dulu kau berikan Betapa beratnya hidup ku rasakan Ingin ku bertemu katakana Ayah tolong beritahu Ibu Ingin memeluknya tapi aku malu Malu jika ku hanya bisa mengeluh Maafkan aku Ayah Ibu Suatu saat nanti kan ku gantikan tugasmu Ayah Doakan aku Ibu, restumu sertai langkahku Ayah dengarkanlah bahagia pasti datang percayalah Ibu engkau kuatkan aku Ibu jangan khawatirkan aku Ku bukan si kecil yang slalu dimanja Ibu Aku si pemberani harapan Ibu Ibu tolong percaya Ayah katakan pada Ibu Ku bisa melewati semua pahitku Meskipun kenyataannya Ayah tahu Ayah engkau penyelamatku Suatu saat nanti kan ku gantikan tugasmu Ayah Doakan aku Ibu, restumu sertai langkahku Ayah dengarkanlah bahagia pasti datang percayalah Ibu engkau kuatkan aku Suatu saat nanti kan ku gantikan tugasmu Ayah Doakan aku Ibu, restumu sertai langkahku Ayah dengarkanlah bahagia pasti datang percayalah Ayah engkau penyelamatku Ibu engkau kuatkan aku',\n",
              "       \"Inilah Radio Revolusi Indonesia Mempersembahkan sebuah langgam nostalgia Andai ku malaikat, kupotong sayapku Dan rasakan perih di dunia bersamamu Perang 'kan berakhir, cinta 'kan abadi Di tanah anarki, romansa terjadi Desing peluru tak bertuan Hari-hari yang tak benderang Setiap detik nyawa ini Kupertahankan untukmu Alasanku ada di sini Dan parasmu yang kurindukan Di neraka 'kan kumenangkan Hariku bersamamu Andai ku malaikat, kupotong sayapku Dan rasakan perih di dunia bersamamu Perang 'kan berakhir, cinta 'kan abadi Di tanah anarki, romansa terjadi Dalam gelisah, ku menunggu (ha-ah) Berita tentang gerilyamu (ha-ah) Semerbak rindu kuasai Udara panas ini Sepucuk surat telah tiba Dan senja pun ikut berdebar Kalimat indah dan kisahmu Tentang perang dan cinta Andai ku malaikat, kupotong sayapku Dan rasakan perih di dunia bersamamu Perang 'kan berakhir, cinta 'kan abadi Di tanah anarki, romansa terjadi Kubasuh luka dengan air mata Oh, hatimu beku serta jiwamu yang lelah Tak henti lawan dunia Dengan mimpi besar untuk cinta Dan jalan untuk pulang Di ujung waktu 'kan ada cahaya Itulah aku Raihlah mimpimi Andai ku malaikat, kupotong sayapku Dan rasakan perih di dunia bersamamu Perang 'kan berakhir, cinta 'kan abadi Di tanah anarki, romansa terjadi Andai ku malaikat, kupotong sayapku Dan rasakan perih di dunia bersamamu Perang 'kan berakhir, cinta 'kan abadi Di tanah anarki, romansa terjadi Itulah aku Raihlah mimpimu;romantis;Sunset Di Tanah Anarki;Superman Is Dead\\n\\n\",\n",
              "       \"Teringat masa kecilku Kau peluk dan kau manja Indahnya saat itu Buatku melambung Di sisimu terngiang Hangat napas segar harum tubuhmu Kau tuturkan segala Mimpi-mimpi serta harapanmu Kau ingin ku menjadi Yang terbaik bagimu Patuhi perintahmu Jauhkan godaan Yang mungkin kulakukan Dalam waktu ku beranjak dewasa Jangan sampai membuatku Terbelenggu, jatuh, dan terinjak Tuhan, tolonglah Sampaikan sejuta sayangku untuknya Ku t'rus berjanji Takkan khianati pintanya Ayah, dengarlah Betapa sesungguhnya ku mencintaimu 'Kan kubuktikan Ku mampu penuhi maumu Andaikan detik itu 'Kan bergulir kembali Kurindukan suasana Basuh jiwaku Membahagiakan aku Yang haus akan kasih dan sayangmu 'Tuk wujudkan segala Sesuatu yang pernah terlewati\",\n",
              "       'Sudah jangan ke jatinangor Ia sudah ada yang punya Lebih baik diam disini Temani aa bernyanyi disini Demi cinta engkau berikan Buku buku dan cindera mata Demi cinta engkau praktekan Buku taktik menguasai wanita Ini asmara itu asrama In harmonia progression Sudah jangan ke jatinangor Masih ada kota lainnya Perempuan tak cuma dia Ada tiga milyar dua puluh satu Ini asmara itu asrama In harmonia progression',\n",
              "       \"Jangan tanyakan perasaanku Jika kau pun tak bisa beralih Dari masa lalu yang menghantuimu Karena sungguh ini tidak adil Bukan maksudku menyakitimu Namun tak mudah 'tuk melupakan Cerita panjang yang pernah aku lalui Tolong yakinkan saja raguku Pergi saja, engkau pergi dariku Biar kubunuh perasaan untukmu Meski berat melangkah Hatiku hanya tak siap terluka Beri kisah kita sedikit waktu Semesta mengirim dirimu untukku Kita adalah rasa yang tepat\",\n",
              "       'Hei gadis bermata cokelat Di hatiku kau acrobat Jantungku berdegup cepat Setiap senyummu terlihat Kau bagai sebuah candu Membuatku selalu rindu Ku menggubah nada syahdu Maaf bila kurang merdu Begini liriknya Kau ingin diet Tapi kubilang aku saja yang menggemukkan badan',\n",
              "       \"Bolehkah kita mengulang Masa-masa indah itu? 'Ku tak mengerti apa yang terjadi hingga berakhir Bagaimanakah kabarmu? Berhasilkah lupakanku? Diriku yang bodoh ini masih mendamba hadirmu Waktu kau sedih 'ku di sini Waktu kau senang kau di mana? Sebelum dirimu pergi Dan janjimu hilang arti Lihatlah perjuanganku Namun jika memang harus Berakhir sampai di sini Biar 'ku berharap dengan Hati yang keras kepala Aku rindu kau yang dulu Dan obrolan kecil kita Kini bagai dua orang asing tidak saling Tanya\",\n",
              "       \"Yang tak bisa terobati Biarlah Mengering sendiri Menghias tubuh dan Yang mengevaluasi Ragamu Hanya kau sendiri Mereka tak mampu Melewat yang telah kau lewati Tiap berganti hari Rintangan yang kau hadapi Masalah yang mengeruh Perasaan yang rapuh Ini belum separuhnya Biasa saja Kamu tak apa Yang selalu ingin ambil peran Hanya berlomba menjadi lebih Sedih dari dirimu Muak dikesampingkan Disamakan Hatimu terluka, sempurna Masalah yang mengeruh Perasaan yang rapuh Ini belum separuhnya Biasa saja Kamu tak apa Perjalanan yang jauh Kau bangun untuk bertaruh Hari belum selesai Biasa saja Kamu tak apa Bilas muka, gosok gigi, evaluasi Tidur sejenak menemui esok pagi Walau pedih 'ku bersamamu kali ini 'Ku masih ingin melihatmu esok hari\",\n",
              "       'Menyesal tak kusampaikan Cinta monyetku ke Kanya dan Rebecca Apa kabar kalian di sana Semoga hidup baik-baik saja Tak belajar terkena getahnya Saat bersama Thanya dan Saphira Kupercaya mungkin bukan jalannya Namun kalian banyak salah juga Jika dahulu ku tak cepat berubah Ini maafku untukmu Sharfina Segala doa yang baik adanya Untukmu dan mimpimu yang mulia Pindah berkala rumah ke rumah Berharap bisa berujung indah Walau akhirnya harus berpisah Trima kasih karna ku tak mudah Pindah berkala rumah ke rumah Berharap bias berujung indah Walau akhirnya harus berpisah Trima kasih karna ku tak mudah',\n",
              "       'Alarm jam delapan pagi Karena jam sepuluh kau isi absensi Kau bangunkan aku setiap hari Rute yang sama, ulangi lagi Makan malam bersama di Gancy Hanya bersama di lima hari Sering berpisah, di akhir pecan Kau dengan teman-teman Aku bermain peran Mulai mempertanyakan Siapa yang salah benar Dulu bersama, berburu property Dulu antar jemput, sekarang pulang sendiri Di kehidupan, kita singgah dan pergi Apapun yang terjadi, kita abadi Di masa lalu, didalam buku Dalam sejarah, kita masih indah Walau parau perih di lagu yang lain Di melodi ini bersyukur pernah terjadi Taman yang luas, seekor corgi Kita beri nama Gimli Ku antar jemput anak setiap pagi Di kehidupan yang lain Ukuran sepatumu Pantangan dan dietmu Masih berguna Di masa lalu',\n",
              "       'Kapan terakhir kali kamu dapat tertidur tenang (renggang) Tak perlu memikirkan tentang apa yang akan datang di esok hari Tubuh yang berpatah hati bergantung pada gaji Berlomba jadi asri mengais validasi Dan aku pun terhadir Seakan paling mahir Menenangkan dirimu Yang merasa terpinggirkan dunia Tak pernah adil Kita semua gagal Angkat minumanmu Bersedih bersama sama Ah ah ah ah Sia-sia pada akhirnya Putus asa terekam pedih semua Masalahnya lebih dari yang secukupnya Rekam gambar dirimu yang terabadikan bertahun silam Putra putri sakit hati Ayah Ibu sendiri Komitmen lama mati hubungan yang menyepi',\n",
              "       'Cantik Ingin rasa hati berbisik Untuk melepas keresahan Dirimu O cantic Bukan kuingin mengganggumu Tapi apa arti merindu Selalu (ow) Walau mentari terbit di utara Hatiku hanya untukmu Ada hati yang termanis dan penuh cinta Tentu saja kan kubalas seisi jiwa Tiada lagi Tiada lagi yang ganggu kita Ini kesungguhan Sungguh aku sayang kamu Cantik Bukan kuingin mengganggumu Tapi apa arti merindu Selalu (ow) Walau mentari terbit di utara Hatiku hanya untukmu Ada hati yang termanis dan penuh cinta Tentu saja kan kubalas seisi jiwa Tiada lagi Tiada lagi yang ganggu kita Ini kesungguhan Sungguh aku sayang kamu Ingin ku berjalan menyusuri cinta Cinta yang abadi untukmu selamanya',\n",
              "       'Tak pernah kusangka ini terjadi Kisah cinta yang suci ini Kau tinggalkan begitu saja Sekian lamanya kita berdua Tak kusangka begitu cepat berlalu Tuk mencari kesombongan diri Lupa segala yang pernah kau ucapkan Kau tinggalkan daku Pergilah kasih kejarlah keinginanmu Selagi masih ada waktu Jangan hiraukan diriku Aku rela berpisah demi untuk dirimu Semoga tercapai segala keinginanmu Tak kusangka begitu cepat berlalu Tuk mencari kesombongan diri Lupa segala yang pernah kau ucapkan Kau tinggalkan daku Pergilah kasih kejarlah keinginanmu Selagi masih ada waktu Jangan hiraukan diriku Aku rela berpisah demi untuk dirimu Semoga tercapai segala keinginanmu',\n",
              "       \"Wo-wo-wo-wo Ah-ya-ya-ya-ya, ya-ya Wo-wo-wo-wo Ah-ya-ya-ya-ya, ya-ya Bukan aku tak tertarik Dengan kata rayuanmu Saat matamu melirik Aku jadi suka padamu Tiap kali kau bermanja Gemetar rasa di dada Ingin kubisikkan cinta Tapi hati ini malu jadinya Engkau masih anak sekolah, satu SMA Belum tepat waktu 'tuk begitu-begini Anak sekolah datang kembali Dua atau tiga tahun lagi Wo-wo-ah-ya, ya-ya Wo-wo-wo-wo Ah-ya-ya-ya-ya, ya-ya Bukan aku tak tertarik Dengan kata rayuanmu Saat matamu melirik Aku jadi suka padamu Tiap kali kau bermanja Gemetar rasa di dada Ingin kubisikkan cinta Tapi hati ini malu jadinya Engkau masih anak sekolah, satu SMA Belum tepat waktu 'tuk begitu-begini Anak sekolah datang kembali Dua atau tiga tahun lagi\",\n",
              "       'Resah dan gelisah Menunggu di sini Di sudut sekolah Tempat yang kau janjikan Ingin jumpa denganku Walau mencuri waktu Berdusta pada guru Malu aku malu Pada semut merah Yang berbaris di dinding Menatapku curiga Seakan penuh tanya \"Sedang apa di sini?\" \"Menanti pacar, \" jawabku Sungguh aneh tapi nyata Takkan terlupa Kisah-kasih di sekolah Dengan si dia Tiada masa paling indah Masa-masa di sekolah Tiada kisah paling indah Kisah-kasih di sekolah',\n",
              "       \"Andai aku bias Memutar kembali Waktu yang t'lah berjalan 'Tuk kembali bersama Di dirimu s'lamanya Bukan maksud aku Membawa dirimu Masuk terlalu jauh Ke dalam kisah cinta Yang tak mungkin terjadi Dan aku tak punya hati Untuk menyakiti dirimu Dan aku tak punya hati 'tuk mencintai Dirimu yang s'lalu mencintai diriku Walau kau tahu diriku masih bersamanya\",\n",
              "       'Begini nasib jadi bujangan Ke mana mana asalkan suka Tiada orang yang melarang Hati senang walaupun tak punya uang Hati senang walaupun tak punya uang Apa susahnya hidup bujangan Setiap hari hanya bernyanyi Tak pernah hatinya bersedih',\n",
              "       \"Di gunung tinggi 'ku temui Gadis manis putri paman petani Cantik, menarik, menawan hati Diana namanya, manja sekali Waktu aku mengikat janji 'Ku belikan cincin bermata jeli Tapi apa yang 'ku alami? Paman petani marah, 'ku dibenci Diana, Diana, kekasihku Bilang pada orang tuamu Cincin yang bermata jeli itu Tanda cinta, kasih untukmu Waktu aku mengikat janji 'Ku belikan cincin bermata jeli Tapi apa yang 'ku alami? Paman petani marah, 'ku dibenci\",\n",
              "       'Bukan lautan hanya kolam susu Kail dan jalan cukup menghidupimu Tiada badai tiada topan kau temui Ikan dan udang menghampiri dirimu Orang bilang tanah kita tanah surge Tongkat kayu dan batu jadi tanaman Orang bilang tanah kita tanah surge Tongkat kayu dan batu jadi tanaman',\n",
              "       'Menebas terali terkurung api Terlahir telanjang tanpa senjata Meradang meluka dirantai dogma Memanggil badai runtuhkan kekang Berderap serentak tanpa seragam Tak pernah henti berkarat Wouooo ... Kamilah kutukan peradaban Wouooo ... Kamilah suara yang terlupakan Wouooo ... Kamilah bayang sempurna Yang tak pernah kau temukan!',\n",
              "       \"Kadang ku kesal dengan sikapmu Yang s'lalu bertanya mana perhatianku Mungkin kau tak pernah merasakan Apa yang kulakukan di setiap pengorbananku S'lalu jadi yang kaumau Menjaga di setiap saat Tapi kau tak melihatnya Mana ada aku cuek Apalagi nggak mikirin kamu Tiap pagi-malam, ku s'lalu Memikirkan kamu Bukalah pintu hatimu Agar kau tahu isi hatiku Semua perjuanganku Tertuju padamu Mungkin kau Tak pernah merasakan Apa yang kulakukan Di setiap pengorbananku\",\n",
              "       'Ketika siapa saja sendirian Berdiam diri tak ada hiburan Jika kau merasakan kesepian Datang kemari kita senang-senang Semua berdiri, waktunya beraksi Penindasan kekerasaan gak jaman Kami datang membawa perdamaian Ciptakan suasana tak terlupakan Lantangkan suaramu dan teriakkan Alunan distorsi, kotak pun beraksi Yang ada di sana, yang ada di sini Semua ikut bernyanyi Hey, yang datang di sini Jangan bikin keki Bikin suasana happy'],\n",
              "      dtype=object)"
            ]
          },
          "metadata": {},
          "execution_count": 33
        }
      ]
    },
    {
      "cell_type": "code",
      "source": [
        "emotions"
      ],
      "metadata": {
        "id": "W_krp4RIJJU0"
      },
      "execution_count": null,
      "outputs": []
    },
    {
      "cell_type": "code",
      "source": [
        "# import library yang dibutuhkan\n",
        "from sklearn.feature_extraction.text import TfidfVectorizer\n",
        "from sklearn.svm import SVC\n",
        "from sklearn.metrics import accuracy_score\n",
        "from sklearn.model_selection import train_test_split"
      ],
      "metadata": {
        "id": "QQpk39FvLOBb"
      },
      "execution_count": null,
      "outputs": []
    },
    {
      "cell_type": "code",
      "source": [
        "# membuat vektor dari lirik lagu\n",
        "vectorizer_param = {'ngram_range': (1, 2), 'max_df': 2, 'min_df': 1, 'max_features': 200}\n",
        "vectorizer = TfidfVectorizer(**vectorizer_param)\n",
        "vectors = vectorizer.fit_transform(lyrics)"
      ],
      "metadata": {
        "id": "6jPh29F2LQV4"
      },
      "execution_count": null,
      "outputs": []
    },
    {
      "cell_type": "code",
      "source": [
        "# membagi data menjadi data latih dan data uji\n",
        "x_train, x_test, y_train, y_test = train_test_split(vectors, emotions, test_size=0.2)"
      ],
      "metadata": {
        "id": "qUXZTzv7LSxd"
      },
      "execution_count": null,
      "outputs": []
    },
    {
      "cell_type": "code",
      "source": [
        "model = SVC()\n",
        "\n",
        "# melatih model \n",
        "model.fit(x_train, y_train)"
      ],
      "metadata": {
        "colab": {
          "base_uri": "https://localhost:8080/"
        },
        "id": "FhuGSjzULVsu",
        "outputId": "e23adeab-e83b-45bd-8c34-117516200ede"
      },
      "execution_count": null,
      "outputs": [
        {
          "output_type": "execute_result",
          "data": {
            "text/plain": [
              "SVC()"
            ]
          },
          "metadata": {},
          "execution_count": 97
        }
      ]
    },
    {
      "cell_type": "code",
      "source": [
        "# melakukan prediksi dengan data uji\n",
        "y_pred = model.predict(x_test)\n",
        "\n",
        "# mengevaluasi model dengan menggunakan akurasi\n",
        "accuracy = accuracy_score(y_test, y_pred)\n",
        "accuracy"
      ],
      "metadata": {
        "colab": {
          "base_uri": "https://localhost:8080/"
        },
        "id": "oqzMiU1oLYGO",
        "outputId": "c8f066b2-c3b5-4957-b964-72331499646d"
      },
      "execution_count": null,
      "outputs": [
        {
          "output_type": "execute_result",
          "data": {
            "text/plain": [
              "0.3333333333333333"
            ]
          },
          "metadata": {},
          "execution_count": 98
        }
      ]
    },
    {
      "cell_type": "code",
      "source": [
        "X_test_toArray = x_test.toarray()\n",
        "X_test_toArray"
      ],
      "metadata": {
        "colab": {
          "base_uri": "https://localhost:8080/"
        },
        "id": "piV8XWgoLjtL",
        "outputId": "c4556d09-3fb3-4dce-a620-4f1517880129"
      },
      "execution_count": null,
      "outputs": [
        {
          "output_type": "execute_result",
          "data": {
            "text/plain": [
              "array([[0., 0., 0., ..., 0., 0., 0.],\n",
              "       [0., 0., 0., ..., 0., 0., 0.],\n",
              "       [0., 0., 0., ..., 0., 0., 0.],\n",
              "       ...,\n",
              "       [0., 0., 0., ..., 0., 0., 0.],\n",
              "       [0., 0., 0., ..., 0., 0., 0.],\n",
              "       [0., 0., 0., ..., 0., 0., 0.]])"
            ]
          },
          "metadata": {},
          "execution_count": 99
        }
      ]
    },
    {
      "cell_type": "code",
      "source": [
        "y_pred"
      ],
      "metadata": {
        "id": "YRFPEXBFjn1f",
        "colab": {
          "base_uri": "https://localhost:8080/"
        },
        "outputId": "1646ff6e-907a-4485-b4f6-f0dad0cc2a93"
      },
      "execution_count": null,
      "outputs": [
        {
          "output_type": "execute_result",
          "data": {
            "text/plain": [
              "array(['sedih', 'sedih', 'sedih', 'sedih', 'sedih', 'sedih', 'sedih',\n",
              "       'sedih', 'sedih', 'sedih', 'sedih', 'sedih', 'sedih', 'sedih',\n",
              "       'sedih', 'sedih', 'sedih', 'bersemangat'], dtype=object)"
            ]
          },
          "metadata": {},
          "execution_count": 68
        }
      ]
    },
    {
      "cell_type": "code",
      "source": [
        "tes = 'Di televisi atau halaman muka ponsel di tanganku Tentang proyeksi cuaca esok hari Terlihat bersahabat untuk ku pergi Berkendara dengan roda dua ku tanpa jas hujan Tiba saat ini waktuku untuk pergi Pelahan aku tinggalkan rumah ini Seperti rencana yang disepakati Olehku atas dasar teknologi Ternyata distorsi perhitungan manusia Terjadi pada proyeksi cuaca yang telah Aku yakin tanpa ragu dan abai pada kata Sedia payung sebelum kecewa melambung karena Hujan kadang datang waktu langit terang Badai kan terjadi tanpa kau tahu pasti Air kan membasahi tabuh tak terlindungi Juga kan tenggelamkan rencanamu ke depan Berkaca diri ini yang berhamba kepada Dunia yang dibalut moderenisasi, dan Berguru pada peristiwa yang di sekitar Diriku tentang manusia di abad 21 Dunia tak sebatas ekspetasi saja Smua bisa terjadi tanpa kau tahu pasti Sekalipun proyeksi nihil spekulasi Tetap saja kita tak kan bisa memastikan Besarkan ruang dalam dada Siapkan bilamana kita Kecewa dengan kemajuan Yang ternyata sebuah kemunduran Besarkan ruang dalam dada Siapkan bilamana kita Kecewa dengan kenyataan Yang tak seindah saat dibayangkan'"
      ],
      "metadata": {
        "id": "mt6YqIbrOI3H"
      },
      "execution_count": null,
      "outputs": []
    },
    {
      "cell_type": "code",
      "source": [
        "tes = vectorizer.fit_transform([tes])"
      ],
      "metadata": {
        "id": "IKk7LxgJOThx"
      },
      "execution_count": null,
      "outputs": []
    },
    {
      "cell_type": "code",
      "source": [
        "y_pred = model.predict(tes)"
      ],
      "metadata": {
        "id": "UJJhYP7UOcqv"
      },
      "execution_count": null,
      "outputs": []
    },
    {
      "cell_type": "code",
      "source": [
        "y_pred"
      ],
      "metadata": {
        "colab": {
          "base_uri": "https://localhost:8080/"
        },
        "id": "pcDtoPcPOk-3",
        "outputId": "0278340b-77e3-4589-c18a-72ad8451b770"
      },
      "execution_count": null,
      "outputs": [
        {
          "output_type": "execute_result",
          "data": {
            "text/plain": [
              "array(['sedih'], dtype=object)"
            ]
          },
          "metadata": {},
          "execution_count": 103
        }
      ]
    },
    {
      "cell_type": "code",
      "source": [
        "tes"
      ],
      "metadata": {
        "colab": {
          "base_uri": "https://localhost:8080/"
        },
        "id": "e6tgNP26P3zc",
        "outputId": "0a747a46-d3c7-47ec-d612-73836cde1969"
      },
      "execution_count": null,
      "outputs": [
        {
          "output_type": "execute_result",
          "data": {
            "text/plain": [
              "<1x114 sparse matrix of type '<class 'numpy.float64'>'\n",
              "\twith 114 stored elements in Compressed Sparse Row format>"
            ]
          },
          "metadata": {},
          "execution_count": 31
        }
      ]
    }
  ]
}