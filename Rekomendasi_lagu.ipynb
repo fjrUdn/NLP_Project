{
  "cells": [
    {
      "cell_type": "code",
      "execution_count": null,
      "metadata": {
        "id": "z-oCZEYJoXSC"
      },
      "outputs": [],
      "source": [
        "import pandas as pd\n",
        "from sklearn.feature_extraction.text import TfidfVectorizer\n",
        "from sklearn.metrics.pairwise import linear_kernel"
      ]
    },
    {
      "cell_type": "code",
      "source": [
        "data=pd.read_csv('datasetfull_.csv', engine='python', encoding='Windows-1252', sep=';')\n",
        "data"
      ],
      "metadata": {
        "colab": {
          "base_uri": "https://localhost:8080/",
          "height": 423
        },
        "id": "_EUjC6txt9bc",
        "outputId": "e575d1c0-7803-4a5c-f046-e7283c747120"
      },
      "execution_count": null,
      "outputs": [
        {
          "output_type": "execute_result",
          "data": {
            "text/plain": [
              "                                                lirik        emosi  \\\n",
              "0   Dirimu peran utama di khayalku Mengganggu lamu...        sedih   \n",
              "1   Kita memang hanya bisa merencanakan Selebihnya...        sedih   \n",
              "2   Distopia mewarnai mimpi buruk kita Distopia ak...  bersemangat   \n",
              "3   Memandang semua dengan sudut yang sama Tatapan...        marah   \n",
              "4   Berburu dan meramu untuk jadi makmur Tanpa rag...  bersemangat   \n",
              "..                                                ...          ...   \n",
              "84  Di gunung tinggi 'ku temui Gadis manis putri p...  bersemangat   \n",
              "85  Bukan lautan hanya kolam susu Kail dan jalan c...       santai   \n",
              "86  Menebas terali terkurung api Terlahir telanjan...        marah   \n",
              "87  Kadang ku kesal dengan sikapmu Yang s'lalu ber...       santai   \n",
              "88  Ketika siapa saja sendirian Berdiam diri tak a...  bersemangat   \n",
              "\n",
              "                        judul          penyanyi  \n",
              "0                     percaya     Golden Melody  \n",
              "1                    Sempurna         Sitokotis  \n",
              "2              Budaya Jentera            Mostis  \n",
              "3            Sisi Gelap Paham            Mostis  \n",
              "4   Penyembah berhala abad 21            Mostis  \n",
              "..                        ...               ...  \n",
              "84                      Diana         Koes Plus  \n",
              "85                 Kolam Susu         Koes Plus  \n",
              "86               Belati Tuhan  Superman Is Dead  \n",
              "87                       Cuek     Rizky Febrian  \n",
              "88                    Beraksi             Kotak  \n",
              "\n",
              "[89 rows x 4 columns]"
            ],
            "text/html": [
              "\n",
              "  <div id=\"df-9c571c7f-e7ff-4df9-8b91-4a5fb22bb61a\">\n",
              "    <div class=\"colab-df-container\">\n",
              "      <div>\n",
              "<style scoped>\n",
              "    .dataframe tbody tr th:only-of-type {\n",
              "        vertical-align: middle;\n",
              "    }\n",
              "\n",
              "    .dataframe tbody tr th {\n",
              "        vertical-align: top;\n",
              "    }\n",
              "\n",
              "    .dataframe thead th {\n",
              "        text-align: right;\n",
              "    }\n",
              "</style>\n",
              "<table border=\"1\" class=\"dataframe\">\n",
              "  <thead>\n",
              "    <tr style=\"text-align: right;\">\n",
              "      <th></th>\n",
              "      <th>lirik</th>\n",
              "      <th>emosi</th>\n",
              "      <th>judul</th>\n",
              "      <th>penyanyi</th>\n",
              "    </tr>\n",
              "  </thead>\n",
              "  <tbody>\n",
              "    <tr>\n",
              "      <th>0</th>\n",
              "      <td>Dirimu peran utama di khayalku Mengganggu lamu...</td>\n",
              "      <td>sedih</td>\n",
              "      <td>percaya</td>\n",
              "      <td>Golden Melody</td>\n",
              "    </tr>\n",
              "    <tr>\n",
              "      <th>1</th>\n",
              "      <td>Kita memang hanya bisa merencanakan Selebihnya...</td>\n",
              "      <td>sedih</td>\n",
              "      <td>Sempurna</td>\n",
              "      <td>Sitokotis</td>\n",
              "    </tr>\n",
              "    <tr>\n",
              "      <th>2</th>\n",
              "      <td>Distopia mewarnai mimpi buruk kita Distopia ak...</td>\n",
              "      <td>bersemangat</td>\n",
              "      <td>Budaya Jentera</td>\n",
              "      <td>Mostis</td>\n",
              "    </tr>\n",
              "    <tr>\n",
              "      <th>3</th>\n",
              "      <td>Memandang semua dengan sudut yang sama Tatapan...</td>\n",
              "      <td>marah</td>\n",
              "      <td>Sisi Gelap Paham</td>\n",
              "      <td>Mostis</td>\n",
              "    </tr>\n",
              "    <tr>\n",
              "      <th>4</th>\n",
              "      <td>Berburu dan meramu untuk jadi makmur Tanpa rag...</td>\n",
              "      <td>bersemangat</td>\n",
              "      <td>Penyembah berhala abad 21</td>\n",
              "      <td>Mostis</td>\n",
              "    </tr>\n",
              "    <tr>\n",
              "      <th>...</th>\n",
              "      <td>...</td>\n",
              "      <td>...</td>\n",
              "      <td>...</td>\n",
              "      <td>...</td>\n",
              "    </tr>\n",
              "    <tr>\n",
              "      <th>84</th>\n",
              "      <td>Di gunung tinggi 'ku temui Gadis manis putri p...</td>\n",
              "      <td>bersemangat</td>\n",
              "      <td>Diana</td>\n",
              "      <td>Koes Plus</td>\n",
              "    </tr>\n",
              "    <tr>\n",
              "      <th>85</th>\n",
              "      <td>Bukan lautan hanya kolam susu Kail dan jalan c...</td>\n",
              "      <td>santai</td>\n",
              "      <td>Kolam Susu</td>\n",
              "      <td>Koes Plus</td>\n",
              "    </tr>\n",
              "    <tr>\n",
              "      <th>86</th>\n",
              "      <td>Menebas terali terkurung api Terlahir telanjan...</td>\n",
              "      <td>marah</td>\n",
              "      <td>Belati Tuhan</td>\n",
              "      <td>Superman Is Dead</td>\n",
              "    </tr>\n",
              "    <tr>\n",
              "      <th>87</th>\n",
              "      <td>Kadang ku kesal dengan sikapmu Yang s'lalu ber...</td>\n",
              "      <td>santai</td>\n",
              "      <td>Cuek</td>\n",
              "      <td>Rizky Febrian</td>\n",
              "    </tr>\n",
              "    <tr>\n",
              "      <th>88</th>\n",
              "      <td>Ketika siapa saja sendirian Berdiam diri tak a...</td>\n",
              "      <td>bersemangat</td>\n",
              "      <td>Beraksi</td>\n",
              "      <td>Kotak</td>\n",
              "    </tr>\n",
              "  </tbody>\n",
              "</table>\n",
              "<p>89 rows × 4 columns</p>\n",
              "</div>\n",
              "      <button class=\"colab-df-convert\" onclick=\"convertToInteractive('df-9c571c7f-e7ff-4df9-8b91-4a5fb22bb61a')\"\n",
              "              title=\"Convert this dataframe to an interactive table.\"\n",
              "              style=\"display:none;\">\n",
              "        \n",
              "  <svg xmlns=\"http://www.w3.org/2000/svg\" height=\"24px\"viewBox=\"0 0 24 24\"\n",
              "       width=\"24px\">\n",
              "    <path d=\"M0 0h24v24H0V0z\" fill=\"none\"/>\n",
              "    <path d=\"M18.56 5.44l.94 2.06.94-2.06 2.06-.94-2.06-.94-.94-2.06-.94 2.06-2.06.94zm-11 1L8.5 8.5l.94-2.06 2.06-.94-2.06-.94L8.5 2.5l-.94 2.06-2.06.94zm10 10l.94 2.06.94-2.06 2.06-.94-2.06-.94-.94-2.06-.94 2.06-2.06.94z\"/><path d=\"M17.41 7.96l-1.37-1.37c-.4-.4-.92-.59-1.43-.59-.52 0-1.04.2-1.43.59L10.3 9.45l-7.72 7.72c-.78.78-.78 2.05 0 2.83L4 21.41c.39.39.9.59 1.41.59.51 0 1.02-.2 1.41-.59l7.78-7.78 2.81-2.81c.8-.78.8-2.07 0-2.86zM5.41 20L4 18.59l7.72-7.72 1.47 1.35L5.41 20z\"/>\n",
              "  </svg>\n",
              "      </button>\n",
              "      \n",
              "  <style>\n",
              "    .colab-df-container {\n",
              "      display:flex;\n",
              "      flex-wrap:wrap;\n",
              "      gap: 12px;\n",
              "    }\n",
              "\n",
              "    .colab-df-convert {\n",
              "      background-color: #E8F0FE;\n",
              "      border: none;\n",
              "      border-radius: 50%;\n",
              "      cursor: pointer;\n",
              "      display: none;\n",
              "      fill: #1967D2;\n",
              "      height: 32px;\n",
              "      padding: 0 0 0 0;\n",
              "      width: 32px;\n",
              "    }\n",
              "\n",
              "    .colab-df-convert:hover {\n",
              "      background-color: #E2EBFA;\n",
              "      box-shadow: 0px 1px 2px rgba(60, 64, 67, 0.3), 0px 1px 3px 1px rgba(60, 64, 67, 0.15);\n",
              "      fill: #174EA6;\n",
              "    }\n",
              "\n",
              "    [theme=dark] .colab-df-convert {\n",
              "      background-color: #3B4455;\n",
              "      fill: #D2E3FC;\n",
              "    }\n",
              "\n",
              "    [theme=dark] .colab-df-convert:hover {\n",
              "      background-color: #434B5C;\n",
              "      box-shadow: 0px 1px 3px 1px rgba(0, 0, 0, 0.15);\n",
              "      filter: drop-shadow(0px 1px 2px rgba(0, 0, 0, 0.3));\n",
              "      fill: #FFFFFF;\n",
              "    }\n",
              "  </style>\n",
              "\n",
              "      <script>\n",
              "        const buttonEl =\n",
              "          document.querySelector('#df-9c571c7f-e7ff-4df9-8b91-4a5fb22bb61a button.colab-df-convert');\n",
              "        buttonEl.style.display =\n",
              "          google.colab.kernel.accessAllowed ? 'block' : 'none';\n",
              "\n",
              "        async function convertToInteractive(key) {\n",
              "          const element = document.querySelector('#df-9c571c7f-e7ff-4df9-8b91-4a5fb22bb61a');\n",
              "          const dataTable =\n",
              "            await google.colab.kernel.invokeFunction('convertToInteractive',\n",
              "                                                     [key], {});\n",
              "          if (!dataTable) return;\n",
              "\n",
              "          const docLinkHtml = 'Like what you see? Visit the ' +\n",
              "            '<a target=\"_blank\" href=https://colab.research.google.com/notebooks/data_table.ipynb>data table notebook</a>'\n",
              "            + ' to learn more about interactive tables.';\n",
              "          element.innerHTML = '';\n",
              "          dataTable['output_type'] = 'display_data';\n",
              "          await google.colab.output.renderOutput(dataTable, element);\n",
              "          const docLink = document.createElement('div');\n",
              "          docLink.innerHTML = docLinkHtml;\n",
              "          element.appendChild(docLink);\n",
              "        }\n",
              "      </script>\n",
              "    </div>\n",
              "  </div>\n",
              "  "
            ]
          },
          "metadata": {},
          "execution_count": 40
        }
      ]
    },
    {
      "cell_type": "code",
      "source": [
        "#list lirik\n",
        "lirik = data.values[:,0]\n",
        "lirik"
      ],
      "metadata": {
        "id": "2JM295qKcMUM"
      },
      "execution_count": null,
      "outputs": []
    },
    {
      "cell_type": "code",
      "source": [
        "# membuat vektor dari lirik lagu\n",
        "vectorizer = TfidfVectorizer()\n",
        "vectors = vectorizer.fit_transform(lirik)"
      ],
      "metadata": {
        "id": "OkdETqCRcmlI"
      },
      "execution_count": null,
      "outputs": []
    },
    {
      "cell_type": "code",
      "source": [
        "cosine_sim = linear_kernel(vectors, vectors)"
      ],
      "metadata": {
        "id": "5lO20tj1dFSL"
      },
      "execution_count": null,
      "outputs": []
    },
    {
      "cell_type": "code",
      "source": [
        "#nilai\n",
        "cosine_sim\n"
      ],
      "metadata": {
        "id": "WFDEfkqTqap1"
      },
      "execution_count": null,
      "outputs": []
    },
    {
      "cell_type": "code",
      "source": [
        "indices = pd.Series(data.index, index=data['judul']).drop_duplicates()\n",
        "indices"
      ],
      "metadata": {
        "id": "n8-sBZI-dZct",
        "colab": {
          "base_uri": "https://localhost:8080/"
        },
        "outputId": "02e47b6b-9d04-4fd5-d9e9-8dba717c61a7"
      },
      "execution_count": null,
      "outputs": [
        {
          "output_type": "execute_result",
          "data": {
            "text/plain": [
              "judul\n",
              "percaya                       0\n",
              "Sempurna                      1\n",
              "Budaya Jentera                2\n",
              "Sisi Gelap Paham              3\n",
              "Penyembah berhala abad 21     4\n",
              "                             ..\n",
              "Diana                        84\n",
              "Kolam Susu                   85\n",
              "Belati Tuhan                 86\n",
              "Cuek                         87\n",
              "Beraksi                      88\n",
              "Length: 89, dtype: int64"
            ]
          },
          "metadata": {},
          "execution_count": 45
        }
      ]
    },
    {
      "cell_type": "code",
      "source": [
        "def rekomendasi(judul, cosine_sim = cosine_sim):\n",
        "  idx = indices[judul]\n",
        "  sim_scores = enumerate(cosine_sim[idx])\n",
        "  sim_scores = sorted(sim_scores, key=lambda x: x[1], reverse=True)\n",
        "  sim_scores = sim_scores[1:6]\n",
        "\n",
        "  sim_index = [i[0] for i in sim_scores]\n",
        "  print(data['judul'].iloc[sim_index])"
      ],
      "metadata": {
        "id": "9JoB_0Lmd9m9"
      },
      "execution_count": null,
      "outputs": []
    },
    {
      "cell_type": "code",
      "source": [
        "rekomendasi('Cantik')"
      ],
      "metadata": {
        "id": "xnB_gtRugM9J",
        "colab": {
          "base_uri": "https://localhost:8080/"
        },
        "outputId": "476ddeb0-3aab-4184-c438-e44a0731252e"
      },
      "execution_count": null,
      "outputs": [
        {
          "output_type": "stream",
          "name": "stdout",
          "text": [
            "0                   percaya\n",
            "74                 Evaluasi\n",
            "48            Yang Terdalam\n",
            "82           Andai Aku Bisa\n",
            "81    Kisah Kasih Disekolah\n",
            "Name: judul, dtype: object\n"
          ]
        }
      ]
    },
    {
      "cell_type": "code",
      "source": [],
      "metadata": {
        "id": "2OOXSXVE5KVM"
      },
      "execution_count": null,
      "outputs": []
    }
  ],
  "metadata": {
    "colab": {
      "provenance": []
    },
    "kernelspec": {
      "display_name": "Python 3",
      "name": "python3"
    },
    "language_info": {
      "name": "python"
    }
  },
  "nbformat": 4,
  "nbformat_minor": 0
}